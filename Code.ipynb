{
 "cells": [
  {
   "cell_type": "markdown",
   "metadata": {},
   "source": [
    "# Importing Libraries"
   ]
  },
  {
   "cell_type": "code",
   "execution_count": 1,
   "metadata": {},
   "outputs": [],
   "source": [
    "import tensorflow as tf\n",
    "from tensorflow import keras\n",
    "from tensorflow.keras.preprocessing.image import ImageDataGenerator\n",
    "from keras.layers import Input, Dropout, Conv2D, MaxPooling2D, Flatten, Dense\n",
    "from keras.callbacks import ModelCheckpoint\n",
    "from tensorflow.keras.datasets import mnist\n",
    "import pandas as pd\n",
    "from keras.utils import to_categorical\n",
    "from PIL import Image\n",
    "import random\n",
    "import matplotlib.pyplot as plt\n",
    "%matplotlib inline"
   ]
  },
  {
   "cell_type": "markdown",
   "metadata": {},
   "source": [
    "# Load Data\n",
    "1. Applied rescaling to images.\n",
    "2. We have less data for task, but still considering that the task is less complex maybe it would work just fine.\n",
    "3. We have 62 classes.\n",
    "4. Seed  = 42 so that same results on every run\n",
    "5. Going for initial try with 256*256 images with batch size = 64 (Randomly Seleted)\n",
    "6. Validatiuon split = 0.1, batch size = 32 for first try but i think size is too small\n",
    "7. Trying Validsation_Split = 0.2"
   ]
  },
  {
   "cell_type": "code",
   "execution_count": 105,
   "metadata": {},
   "outputs": [
    {
     "name": "stdout",
     "output_type": "stream",
     "text": [
      "Found 1984 images belonging to 62 classes.\n",
      "Found 496 images belonging to 62 classes.\n"
     ]
    }
   ],
   "source": [
    "train_datagen = ImageDataGenerator(\n",
    "                                    rescale =1/255,\n",
    "                                    validation_split = 0.2\n",
    "                                  )\n",
    "train = train_datagen.flow_from_directory(\n",
    "                                          'train',\n",
    "                                           target_size = (28, 28),\n",
    "                                           batch_size = 64,\n",
    "                                           class_mode = \"categorical\",\n",
    "                                           seed = 42,\n",
    "                                           subset = 'training'\n",
    "                                         )\n",
    "valid = train = train_datagen.flow_from_directory(\n",
    "                                          'train',\n",
    "                                           target_size = (28, 28),\n",
    "                                           batch_size = 32,\n",
    "                                           class_mode = \"categorical\",\n",
    "                                           seed = 42,\n",
    "                                           subset = 'validation'\n",
    "                                         )"
   ]
  },
  {
   "cell_type": "markdown",
   "metadata": {},
   "source": [
    "# Checking for BASELINE accuracy on a simpler model"
   ]
  },
  {
   "cell_type": "markdown",
   "metadata": {},
   "source": [
    "1. Made this to test the behaviour on a much simpler dataset consisting of 1 Conv2D, and 2 Dense layers.\n",
    "2. Making checkpoints i.e. saving weights according to the change in val_accuracy.\n",
    "3. The accuracy and loss curve plotted in end shopws everything is okay.\n",
    "4. Used loss = categorical_crossentropy beacuse our case consists of multiple output classes\n",
    "5. Used Adam optimizer beacuse changes learning rate per epoch and hence better convergence"
   ]
  },
  {
   "cell_type": "code",
   "execution_count": 2,
   "metadata": {},
   "outputs": [],
   "source": [
    "def baseline_model():\n",
    "# create model\n",
    "    model = keras.Sequential()\n",
    "    model.add(Conv2D(32, (5, 5), input_shape=(28, 28,3), activation='relu'))\n",
    "    model.add(MaxPooling2D(pool_size=(2, 2)))\n",
    "    model.add(Flatten())\n",
    "    model.add(Dense(128, activation='relu'))\n",
    "    model.add(Dense(62, activation='softmax'))\n",
    "    # Compile model\n",
    "    model.compile(loss='categorical_crossentropy', optimizer='adam', metrics=['accuracy'])\n",
    "    return model"
   ]
  },
  {
   "cell_type": "code",
   "execution_count": 108,
   "metadata": {},
   "outputs": [
    {
     "name": "stdout",
     "output_type": "stream",
     "text": [
      "WARNING:tensorflow:`period` argument is deprecated. Please use `save_freq` to specify the frequency in number of batches seen.\n",
      "Model: \"sequential_22\"\n",
      "_________________________________________________________________\n",
      "Layer (type)                 Output Shape              Param #   \n",
      "=================================================================\n",
      "conv2d_28 (Conv2D)           (None, 24, 24, 32)        2432      \n",
      "_________________________________________________________________\n",
      "max_pooling2d_26 (MaxPooling (None, 12, 12, 32)        0         \n",
      "_________________________________________________________________\n",
      "flatten_14 (Flatten)         (None, 4608)              0         \n",
      "_________________________________________________________________\n",
      "dense_59 (Dense)             (None, 128)               589952    \n",
      "_________________________________________________________________\n",
      "dense_60 (Dense)             (None, 62)                7998      \n",
      "=================================================================\n",
      "Total params: 600,382\n",
      "Trainable params: 600,382\n",
      "Non-trainable params: 0\n",
      "_________________________________________________________________\n",
      "Epoch 1/20\n",
      "16/16 [==============================] - 10s 645ms/step - loss: 4.2220 - accuracy: 0.0224 - val_loss: 4.1020 - val_accuracy: 0.0464\n",
      "\n",
      "Epoch 00001: val_accuracy improved from -inf to 0.04637, saving model to working/weights_baseline-01-0.05.hdf5\n",
      "Epoch 2/20\n",
      "16/16 [==============================] - 10s 622ms/step - loss: 4.0942 - accuracy: 0.0461 - val_loss: 4.0168 - val_accuracy: 0.1129\n",
      "\n",
      "Epoch 00002: val_accuracy improved from 0.04637 to 0.11290, saving model to working/weights_baseline-02-0.11.hdf5\n",
      "Epoch 3/20\n",
      "16/16 [==============================] - 11s 700ms/step - loss: 3.9941 - accuracy: 0.1086 - val_loss: 3.8099 - val_accuracy: 0.2722\n",
      "\n",
      "Epoch 00003: val_accuracy improved from 0.11290 to 0.27218, saving model to working/weights_baseline-03-0.27.hdf5\n",
      "Epoch 4/20\n",
      "16/16 [==============================] - 10s 627ms/step - loss: 3.7702 - accuracy: 0.1726 - val_loss: 3.3540 - val_accuracy: 0.3367\n",
      "\n",
      "Epoch 00004: val_accuracy improved from 0.27218 to 0.33669, saving model to working/weights_baseline-04-0.34.hdf5\n",
      "Epoch 5/20\n",
      "16/16 [==============================] - 10s 648ms/step - loss: 3.2716 - accuracy: 0.3168 - val_loss: 2.8376 - val_accuracy: 0.4012\n",
      "\n",
      "Epoch 00005: val_accuracy improved from 0.33669 to 0.40121, saving model to working/weights_baseline-05-0.40.hdf5\n",
      "Epoch 6/20\n",
      "16/16 [==============================] - 10s 633ms/step - loss: 2.7428 - accuracy: 0.3980 - val_loss: 2.2494 - val_accuracy: 0.5081\n",
      "\n",
      "Epoch 00006: val_accuracy improved from 0.40121 to 0.50806, saving model to working/weights_baseline-06-0.51.hdf5\n",
      "Epoch 7/20\n",
      "16/16 [==============================] - 10s 628ms/step - loss: 2.1547 - accuracy: 0.5015 - val_loss: 1.7788 - val_accuracy: 0.6331\n",
      "\n",
      "Epoch 00007: val_accuracy improved from 0.50806 to 0.63306, saving model to working/weights_baseline-07-0.63.hdf5\n",
      "Epoch 8/20\n",
      "16/16 [==============================] - 10s 639ms/step - loss: 1.7384 - accuracy: 0.6209 - val_loss: 1.4292 - val_accuracy: 0.7298\n",
      "\n",
      "Epoch 00008: val_accuracy improved from 0.63306 to 0.72984, saving model to working/weights_baseline-08-0.73.hdf5\n",
      "Epoch 9/20\n",
      "16/16 [==============================] - 10s 657ms/step - loss: 1.3805 - accuracy: 0.7052 - val_loss: 1.1693 - val_accuracy: 0.7500\n",
      "\n",
      "Epoch 00009: val_accuracy improved from 0.72984 to 0.75000, saving model to working/weights_baseline-09-0.75.hdf5\n",
      "Epoch 10/20\n",
      "16/16 [==============================] - 10s 621ms/step - loss: 1.2528 - accuracy: 0.7115 - val_loss: 0.9975 - val_accuracy: 0.8165\n",
      "\n",
      "Epoch 00010: val_accuracy improved from 0.75000 to 0.81653, saving model to working/weights_baseline-10-0.82.hdf5\n",
      "Epoch 11/20\n",
      "16/16 [==============================] - 10s 620ms/step - loss: 0.9467 - accuracy: 0.8066 - val_loss: 0.8518 - val_accuracy: 0.8206\n",
      "\n",
      "Epoch 00011: val_accuracy improved from 0.81653 to 0.82056, saving model to working/weights_baseline-11-0.82.hdf5\n",
      "Epoch 12/20\n",
      "16/16 [==============================] - 10s 639ms/step - loss: 0.7915 - accuracy: 0.8393 - val_loss: 0.6716 - val_accuracy: 0.8871\n",
      "\n",
      "Epoch 00012: val_accuracy improved from 0.82056 to 0.88710, saving model to working/weights_baseline-12-0.89.hdf5\n",
      "Epoch 13/20\n",
      "16/16 [==============================] - 10s 624ms/step - loss: 0.7284 - accuracy: 0.8624 - val_loss: 0.5186 - val_accuracy: 0.9254\n",
      "\n",
      "Epoch 00013: val_accuracy improved from 0.88710 to 0.92540, saving model to working/weights_baseline-13-0.93.hdf5\n",
      "Epoch 14/20\n",
      "16/16 [==============================] - 10s 622ms/step - loss: 0.5351 - accuracy: 0.9002 - val_loss: 0.4229 - val_accuracy: 0.9556\n",
      "\n",
      "Epoch 00014: val_accuracy improved from 0.92540 to 0.95565, saving model to working/weights_baseline-14-0.96.hdf5\n",
      "Epoch 15/20\n",
      "16/16 [==============================] - 10s 627ms/step - loss: 0.4654 - accuracy: 0.9170 - val_loss: 0.3745 - val_accuracy: 0.9536\n",
      "\n",
      "Epoch 00015: val_accuracy did not improve from 0.95565\n",
      "Epoch 16/20\n",
      "16/16 [==============================] - 10s 623ms/step - loss: 0.4031 - accuracy: 0.9448 - val_loss: 0.3133 - val_accuracy: 0.9597\n",
      "\n",
      "Epoch 00016: val_accuracy improved from 0.95565 to 0.95968, saving model to working/weights_baseline-16-0.96.hdf5\n",
      "Epoch 17/20\n",
      "16/16 [==============================] - 10s 620ms/step - loss: 0.3247 - accuracy: 0.9706 - val_loss: 0.2420 - val_accuracy: 0.9778\n",
      "\n",
      "Epoch 00017: val_accuracy improved from 0.95968 to 0.97782, saving model to working/weights_baseline-17-0.98.hdf5\n",
      "Epoch 18/20\n",
      "16/16 [==============================] - 10s 632ms/step - loss: 0.2575 - accuracy: 0.9716 - val_loss: 0.1981 - val_accuracy: 0.9839\n",
      "\n",
      "Epoch 00018: val_accuracy improved from 0.97782 to 0.98387, saving model to working/weights_baseline-18-0.98.hdf5\n",
      "Epoch 19/20\n",
      "16/16 [==============================] - 10s 624ms/step - loss: 0.2121 - accuracy: 0.9840 - val_loss: 0.1695 - val_accuracy: 0.9899\n",
      "\n",
      "Epoch 00019: val_accuracy improved from 0.98387 to 0.98992, saving model to working/weights_baseline-19-0.99.hdf5\n",
      "Epoch 20/20\n",
      "16/16 [==============================] - 10s 621ms/step - loss: 0.1956 - accuracy: 0.9922 - val_loss: 0.1431 - val_accuracy: 0.9940\n",
      "\n",
      "Epoch 00020: val_accuracy improved from 0.98992 to 0.99395, saving model to working/weights_baseline-20-0.99.hdf5\n"
     ]
    }
   ],
   "source": [
    "checkpoint = ModelCheckpoint(\n",
    "    'working/weights_baseline-{epoch:02d}-{val_accuracy:.2f}.hdf5',\n",
    "    monitor='val_accuracy',\n",
    "    verbose=1,\n",
    "    save_best_only=True,\n",
    "    mode='max',\n",
    "    period = 1)\n",
    "model = baseline_model()\n",
    "model.summary()\n",
    "history = model.fit(train, validation_data = valid, epochs = 20, verbose = 1, callbacks = [checkpoint])"
   ]
  },
  {
   "cell_type": "code",
   "execution_count": 109,
   "metadata": {},
   "outputs": [
    {
     "data": {
      "image/png": "[encoded data removed]",
      "text/plain": [
       "<Figure size 432x288 with 1 Axes>"
      ]
     },
     "metadata": {
      "needs_background": "light"
     },
     "output_type": "display_data"
    },
    {
     "data": {
      "image/png": "[encoded data removed]",
      "text/plain": [
       "<Figure size 432x288 with 1 Axes>"
      ]
     },
     "metadata": {
      "needs_background": "light"
     },
     "output_type": "display_data"
    }
   ],
   "source": [
    "plot_b = pd.DataFrame(history.history)\n",
    "plot_b.loc[:,[\"loss\", \"val_loss\"]].plot();\n",
    "plot_b.loc[:,[\"accuracy\", \"val_accuracy\"]].plot();"
   ]
  },
  {
   "cell_type": "markdown",
   "metadata": {},
   "source": [
    "# best weights for baseline model - working/weights_baseline-20-0.99.hdf5"
   ]
  },
  {
   "cell_type": "code",
   "execution_count": 3,
   "metadata": {},
   "outputs": [],
   "source": [
    "def larger_model(weights = 'softmax'):\n",
    "    # create model\n",
    "    model = keras.Sequential()\n",
    "    model.add(Conv2D(28, (5, 5), input_shape = (28, 28, 3), activation='relu'))\n",
    "    model.add(MaxPooling2D(pool_size=(2, 2)))\n",
    "    model.add(Conv2D(16, (3, 3), activation='relu'))\n",
    "    model.add(MaxPooling2D(pool_size=(2, 2)))\n",
    "    model.add(Dropout(0.2))\n",
    "    model.add(Flatten())\n",
    "    model.add(Dense(1024, activation='relu'))\n",
    "    model.add(Dense(512, activation='relu'))\n",
    "    model.add(Dense(128, activation='relu'))\n",
    "    model.add(Dense(62, activation = weights))\n",
    "    return model"
   ]
  },
  {
   "cell_type": "code",
   "execution_count": 115,
   "metadata": {},
   "outputs": [
    {
     "name": "stdout",
     "output_type": "stream",
     "text": [
      "WARNING:tensorflow:`period` argument is deprecated. Please use `save_freq` to specify the frequency in number of batches seen.\n",
      "Epoch 1/50\n",
      "16/16 - 10s - loss: 4.1525 - accuracy: 0.0121 - val_loss: 4.1255 - val_accuracy: 0.0222\n",
      "\n",
      "Epoch 00001: val_accuracy improved from -inf to 0.02218, saving model to working/weights_largerModel-01-0.02.hdf5\n",
      "Epoch 2/50\n",
      "16/16 - 9s - loss: 4.1267 - accuracy: 0.0121 - val_loss: 4.1216 - val_accuracy: 0.0242\n",
      "\n",
      "Epoch 00002: val_accuracy improved from 0.02218 to 0.02419, saving model to working/weights_largerModel-02-0.02.hdf5\n",
      "Epoch 3/50\n",
      "16/16 - 9s - loss: 4.1274 - accuracy: 0.0181 - val_loss: 4.1184 - val_accuracy: 0.0282\n",
      "\n",
      "Epoch 00003: val_accuracy improved from 0.02419 to 0.02823, saving model to working/weights_largerModel-03-0.03.hdf5\n",
      "Epoch 4/50\n",
      "16/16 - 9s - loss: 4.1155 - accuracy: 0.0363 - val_loss: 4.0869 - val_accuracy: 0.0524\n",
      "\n",
      "Epoch 00004: val_accuracy improved from 0.02823 to 0.05242, saving model to working/weights_largerModel-04-0.05.hdf5\n",
      "Epoch 5/50\n",
      "16/16 - 9s - loss: 4.0847 - accuracy: 0.0363 - val_loss: 4.0206 - val_accuracy: 0.0867\n",
      "\n",
      "Epoch 00005: val_accuracy improved from 0.05242 to 0.08669, saving model to working/weights_largerModel-05-0.09.hdf5\n",
      "Epoch 6/50\n",
      "16/16 - 10s - loss: 4.0244 - accuracy: 0.0645 - val_loss: 3.9524 - val_accuracy: 0.0907\n",
      "\n",
      "Epoch 00006: val_accuracy improved from 0.08669 to 0.09073, saving model to working/weights_largerModel-06-0.09.hdf5\n",
      "Epoch 7/50\n",
      "16/16 - 9s - loss: 3.8256 - accuracy: 0.0806 - val_loss: 3.4901 - val_accuracy: 0.1210\n",
      "\n",
      "Epoch 00007: val_accuracy improved from 0.09073 to 0.12097, saving model to working/weights_largerModel-07-0.12.hdf5\n",
      "Epoch 8/50\n",
      "16/16 - 9s - loss: 3.5916 - accuracy: 0.1270 - val_loss: 3.2959 - val_accuracy: 0.2359\n",
      "\n",
      "Epoch 00008: val_accuracy improved from 0.12097 to 0.23589, saving model to working/weights_largerModel-08-0.24.hdf5\n",
      "Epoch 9/50\n",
      "16/16 - 9s - loss: 3.2145 - accuracy: 0.1815 - val_loss: 2.8366 - val_accuracy: 0.2560\n",
      "\n",
      "Epoch 00009: val_accuracy improved from 0.23589 to 0.25605, saving model to working/weights_largerModel-09-0.26.hdf5\n",
      "Epoch 10/50\n",
      "16/16 - 10s - loss: 2.8820 - accuracy: 0.2460 - val_loss: 2.4354 - val_accuracy: 0.3871\n",
      "\n",
      "Epoch 00010: val_accuracy improved from 0.25605 to 0.38710, saving model to working/weights_largerModel-10-0.39.hdf5\n",
      "Epoch 11/50\n",
      "16/16 - 9s - loss: 2.5877 - accuracy: 0.2944 - val_loss: 2.1150 - val_accuracy: 0.4819\n",
      "\n",
      "Epoch 00011: val_accuracy improved from 0.38710 to 0.48185, saving model to working/weights_largerModel-11-0.48.hdf5\n",
      "Epoch 12/50\n",
      "16/16 - 9s - loss: 2.2468 - accuracy: 0.4113 - val_loss: 1.7336 - val_accuracy: 0.5323\n",
      "\n",
      "Epoch 00012: val_accuracy improved from 0.48185 to 0.53226, saving model to working/weights_largerModel-12-0.53.hdf5\n",
      "Epoch 13/50\n",
      "16/16 - 9s - loss: 2.0583 - accuracy: 0.4173 - val_loss: 1.5530 - val_accuracy: 0.5907\n",
      "\n",
      "Epoch 00013: val_accuracy improved from 0.53226 to 0.59073, saving model to working/weights_largerModel-13-0.59.hdf5\n",
      "Epoch 14/50\n",
      "16/16 - 10s - loss: 1.7537 - accuracy: 0.5101 - val_loss: 1.2250 - val_accuracy: 0.6754\n",
      "\n",
      "Epoch 00014: val_accuracy improved from 0.59073 to 0.67540, saving model to working/weights_largerModel-14-0.68.hdf5\n",
      "Epoch 15/50\n",
      "16/16 - 9s - loss: 1.6151 - accuracy: 0.5403 - val_loss: 1.0778 - val_accuracy: 0.7480\n",
      "\n",
      "Epoch 00015: val_accuracy improved from 0.67540 to 0.74798, saving model to working/weights_largerModel-15-0.75.hdf5\n",
      "Epoch 16/50\n",
      "16/16 - 10s - loss: 1.4080 - accuracy: 0.5927 - val_loss: 0.8720 - val_accuracy: 0.7702\n",
      "\n",
      "Epoch 00016: val_accuracy improved from 0.74798 to 0.77016, saving model to working/weights_largerModel-16-0.77.hdf5\n",
      "Epoch 17/50\n",
      "16/16 - 10s - loss: 1.1999 - accuracy: 0.6411 - val_loss: 0.7516 - val_accuracy: 0.8145\n",
      "\n",
      "Epoch 00017: val_accuracy improved from 0.77016 to 0.81452, saving model to working/weights_largerModel-17-0.81.hdf5\n",
      "Epoch 18/50\n",
      "16/16 - 10s - loss: 1.0713 - accuracy: 0.6915 - val_loss: 0.5904 - val_accuracy: 0.8569\n",
      "\n",
      "Epoch 00018: val_accuracy improved from 0.81452 to 0.85685, saving model to working/weights_largerModel-18-0.86.hdf5\n",
      "Epoch 19/50\n",
      "16/16 - 9s - loss: 0.9535 - accuracy: 0.7097 - val_loss: 0.6269 - val_accuracy: 0.8246\n",
      "\n",
      "Epoch 00019: val_accuracy did not improve from 0.85685\n",
      "Epoch 20/50\n",
      "16/16 - 10s - loss: 0.8852 - accuracy: 0.7218 - val_loss: 0.3925 - val_accuracy: 0.9113\n",
      "\n",
      "Epoch 00020: val_accuracy improved from 0.85685 to 0.91129, saving model to working/weights_largerModel-20-0.91.hdf5\n",
      "Epoch 21/50\n",
      "16/16 - 10s - loss: 0.7186 - accuracy: 0.8105 - val_loss: 0.3608 - val_accuracy: 0.9415\n",
      "\n",
      "Epoch 00021: val_accuracy improved from 0.91129 to 0.94153, saving model to working/weights_largerModel-21-0.94.hdf5\n",
      "Epoch 22/50\n",
      "16/16 - 10s - loss: 0.6697 - accuracy: 0.8024 - val_loss: 0.2555 - val_accuracy: 0.9456\n",
      "\n",
      "Epoch 00022: val_accuracy improved from 0.94153 to 0.94556, saving model to working/weights_largerModel-22-0.95.hdf5\n",
      "Epoch 23/50\n",
      "16/16 - 10s - loss: 0.6359 - accuracy: 0.7903 - val_loss: 0.3290 - val_accuracy: 0.9274\n",
      "\n",
      "Epoch 00023: val_accuracy did not improve from 0.94556\n",
      "Epoch 24/50\n",
      "16/16 - 10s - loss: 0.5518 - accuracy: 0.8246 - val_loss: 0.2537 - val_accuracy: 0.9456\n",
      "\n",
      "Epoch 00024: val_accuracy did not improve from 0.94556\n",
      "Epoch 25/50\n",
      "16/16 - 10s - loss: 0.4729 - accuracy: 0.8609 - val_loss: 0.1760 - val_accuracy: 0.9738\n",
      "\n",
      "Epoch 00025: val_accuracy improved from 0.94556 to 0.97379, saving model to working/weights_largerModel-25-0.97.hdf5\n",
      "Epoch 26/50\n",
      "16/16 - 10s - loss: 0.4048 - accuracy: 0.8770 - val_loss: 0.1572 - val_accuracy: 0.9738\n",
      "\n",
      "Epoch 00026: val_accuracy did not improve from 0.97379\n",
      "Epoch 27/50\n",
      "16/16 - 10s - loss: 0.3230 - accuracy: 0.9173 - val_loss: 0.1149 - val_accuracy: 0.9758\n",
      "\n",
      "Epoch 00027: val_accuracy improved from 0.97379 to 0.97581, saving model to working/weights_largerModel-27-0.98.hdf5\n",
      "Epoch 28/50\n",
      "16/16 - 10s - loss: 0.2895 - accuracy: 0.9052 - val_loss: 0.0893 - val_accuracy: 0.9919\n",
      "\n",
      "Epoch 00028: val_accuracy improved from 0.97581 to 0.99194, saving model to working/weights_largerModel-28-0.99.hdf5\n",
      "Epoch 29/50\n",
      "16/16 - 10s - loss: 0.2668 - accuracy: 0.9234 - val_loss: 0.0674 - val_accuracy: 0.9980\n",
      "\n",
      "Epoch 00029: val_accuracy improved from 0.99194 to 0.99798, saving model to working/weights_largerModel-29-1.00.hdf5\n",
      "Epoch 30/50\n",
      "16/16 - 9s - loss: 0.2932 - accuracy: 0.9093 - val_loss: 0.0793 - val_accuracy: 0.9879\n",
      "\n",
      "Epoch 00030: val_accuracy did not improve from 0.99798\n",
      "Epoch 31/50\n",
      "16/16 - 10s - loss: 0.2899 - accuracy: 0.9012 - val_loss: 0.0927 - val_accuracy: 0.9778\n",
      "\n",
      "Epoch 00031: val_accuracy did not improve from 0.99798\n",
      "Epoch 32/50\n",
      "16/16 - 10s - loss: 0.2781 - accuracy: 0.9173 - val_loss: 0.0749 - val_accuracy: 0.9899\n",
      "\n",
      "Epoch 00032: val_accuracy did not improve from 0.99798\n",
      "Epoch 33/50\n",
      "16/16 - 10s - loss: 0.2013 - accuracy: 0.9435 - val_loss: 0.0446 - val_accuracy: 1.0000\n",
      "\n",
      "Epoch 00033: val_accuracy improved from 0.99798 to 1.00000, saving model to working/weights_largerModel-33-1.00.hdf5\n",
      "Epoch 34/50\n",
      "16/16 - 10s - loss: 0.1954 - accuracy: 0.9415 - val_loss: 0.0333 - val_accuracy: 0.9960\n",
      "\n",
      "Epoch 00034: val_accuracy did not improve from 1.00000\n",
      "Epoch 35/50\n",
      "16/16 - 9s - loss: 0.1082 - accuracy: 0.9758 - val_loss: 0.0329 - val_accuracy: 0.9960\n",
      "\n",
      "Epoch 00035: val_accuracy did not improve from 1.00000\n",
      "Epoch 36/50\n",
      "16/16 - 9s - loss: 0.1777 - accuracy: 0.9395 - val_loss: 0.0399 - val_accuracy: 0.9960\n",
      "\n",
      "Epoch 00036: val_accuracy did not improve from 1.00000\n",
      "Epoch 37/50\n",
      "16/16 - 9s - loss: 0.1969 - accuracy: 0.9375 - val_loss: 0.0238 - val_accuracy: 1.0000\n",
      "\n",
      "Epoch 00037: val_accuracy did not improve from 1.00000\n",
      "Epoch 38/50\n",
      "16/16 - 9s - loss: 0.1368 - accuracy: 0.9556 - val_loss: 0.0263 - val_accuracy: 1.0000\n",
      "\n",
      "Epoch 00038: val_accuracy did not improve from 1.00000\n",
      "Epoch 39/50\n",
      "16/16 - 9s - loss: 0.1454 - accuracy: 0.9556 - val_loss: 0.0221 - val_accuracy: 0.9980\n",
      "\n",
      "Epoch 00039: val_accuracy did not improve from 1.00000\n",
      "Epoch 40/50\n",
      "16/16 - 10s - loss: 0.2220 - accuracy: 0.9315 - val_loss: 0.0269 - val_accuracy: 1.0000\n",
      "\n",
      "Epoch 00040: val_accuracy did not improve from 1.00000\n",
      "Epoch 41/50\n",
      "16/16 - 10s - loss: 0.1684 - accuracy: 0.9536 - val_loss: 0.0283 - val_accuracy: 0.9980\n",
      "\n",
      "Epoch 00041: val_accuracy did not improve from 1.00000\n",
      "Epoch 42/50\n",
      "16/16 - 10s - loss: 0.1060 - accuracy: 0.9698 - val_loss: 0.0255 - val_accuracy: 0.9940\n"
     ]
    },
    {
     "name": "stdout",
     "output_type": "stream",
     "text": [
      "\n",
      "Epoch 00042: val_accuracy did not improve from 1.00000\n",
      "Epoch 43/50\n",
      "16/16 - 10s - loss: 0.1353 - accuracy: 0.9597 - val_loss: 0.0279 - val_accuracy: 0.9940\n",
      "\n",
      "Epoch 00043: val_accuracy did not improve from 1.00000\n",
      "Epoch 44/50\n",
      "16/16 - 10s - loss: 0.1591 - accuracy: 0.9577 - val_loss: 0.0176 - val_accuracy: 0.9980\n",
      "\n",
      "Epoch 00044: val_accuracy did not improve from 1.00000\n",
      "Epoch 45/50\n",
      "16/16 - 9s - loss: 0.0997 - accuracy: 0.9798 - val_loss: 0.0134 - val_accuracy: 0.9980\n",
      "\n",
      "Epoch 00045: val_accuracy did not improve from 1.00000\n",
      "Epoch 46/50\n",
      "16/16 - 10s - loss: 0.0888 - accuracy: 0.9718 - val_loss: 0.0094 - val_accuracy: 1.0000\n",
      "\n",
      "Epoch 00046: val_accuracy did not improve from 1.00000\n",
      "Epoch 47/50\n",
      "16/16 - 10s - loss: 0.1132 - accuracy: 0.9657 - val_loss: 0.0328 - val_accuracy: 0.9980\n",
      "\n",
      "Epoch 00047: val_accuracy did not improve from 1.00000\n",
      "Epoch 48/50\n",
      "16/16 - 10s - loss: 0.1432 - accuracy: 0.9536 - val_loss: 0.0176 - val_accuracy: 0.9980\n",
      "\n",
      "Epoch 00048: val_accuracy did not improve from 1.00000\n",
      "Epoch 49/50\n",
      "16/16 - 10s - loss: 0.1158 - accuracy: 0.9657 - val_loss: 0.0095 - val_accuracy: 1.0000\n",
      "\n",
      "Epoch 00049: val_accuracy did not improve from 1.00000\n",
      "Epoch 50/50\n",
      "16/16 - 10s - loss: 0.1234 - accuracy: 0.9677 - val_loss: 0.0149 - val_accuracy: 1.0000\n",
      "\n",
      "Epoch 00050: val_accuracy did not improve from 1.00000\n"
     ]
    }
   ],
   "source": [
    "model_l = larger_model()\n",
    "# Compile model\n",
    "model_l.compile(loss='categorical_crossentropy', optimizer='adam', metrics=['accuracy'])\n",
    "checkpoint_l = ModelCheckpoint(\n",
    "    'working/weights_largerModel-{epoch:02d}-{val_accuracy:.2f}.hdf5',\n",
    "    monitor='val_accuracy',\n",
    "    verbose=1,\n",
    "    save_best_only=True,\n",
    "    mode='max',\n",
    "    period = 1)\n",
    "history_l = model_l.fit(train, validation_data = valid, epochs = 50, verbose = 2, callbacks = [checkpoint_l])"
   ]
  },
  {
   "cell_type": "code",
   "execution_count": 123,
   "metadata": {},
   "outputs": [
    {
     "name": "stdout",
     "output_type": "stream",
     "text": [
      "Model: \"sequential_25\"\n",
      "_________________________________________________________________\n",
      "Layer (type)                 Output Shape              Param #   \n",
      "=================================================================\n",
      "conv2d_35 (Conv2D)           (None, 24, 24, 30)        780       \n",
      "_________________________________________________________________\n",
      "max_pooling2d_35 (MaxPooling (None, 12, 12, 30)        0         \n",
      "_________________________________________________________________\n",
      "conv2d_36 (Conv2D)           (None, 10, 10, 15)        4065      \n",
      "_________________________________________________________________\n",
      "max_pooling2d_36 (MaxPooling (None, 5, 5, 15)          0         \n",
      "_________________________________________________________________\n",
      "dropout_18 (Dropout)         (None, 5, 5, 15)          0         \n",
      "_________________________________________________________________\n",
      "flatten_18 (Flatten)         (None, 375)               0         \n",
      "_________________________________________________________________\n",
      "dense_76 (Dense)             (None, 1024)              385024    \n",
      "_________________________________________________________________\n",
      "dense_77 (Dense)             (None, 512)               524800    \n",
      "_________________________________________________________________\n",
      "dense_78 (Dense)             (None, 128)               65664     \n",
      "_________________________________________________________________\n",
      "dense_79 (Dense)             (None, 62)                7998      \n",
      "=================================================================\n",
      "Total params: 988,331\n",
      "Trainable params: 988,331\n",
      "Non-trainable params: 0\n",
      "_________________________________________________________________\n"
     ]
    }
   ],
   "source": [
    "model_l.summary()"
   ]
  },
  {
   "cell_type": "markdown",
   "metadata": {},
   "source": [
    "# best weights - working/weights_largerModel-33-1.00.hdf5"
   ]
  },
  {
   "cell_type": "code",
   "execution_count": 117,
   "metadata": {},
   "outputs": [
    {
     "data": {
      "image/png": "[encoded data removed]",
      "text/plain": [
       "<Figure size 432x288 with 1 Axes>"
      ]
     },
     "metadata": {
      "needs_background": "light"
     },
     "output_type": "display_data"
    },
    {
     "data": {
      "image/png": "[encoded data removed]",
      "text/plain": [
       "<Figure size 432x288 with 1 Axes>"
      ]
     },
     "metadata": {
      "needs_background": "light"
     },
     "output_type": "display_data"
    }
   ],
   "source": [
    "plot_l = pd.DataFrame(history_l.history)\n",
    "plot_l.loc[:,[\"loss\", \"val_loss\"]].plot();\n",
    "plot_l.loc[:,[\"accuracy\", \"val_accuracy\"]].plot();"
   ]
  },
  {
   "cell_type": "markdown",
   "metadata": {},
   "source": [
    "# Task 2"
   ]
  },
  {
   "cell_type": "markdown",
   "metadata": {},
   "source": [
    "# Load MNIST Dataset and setting up a local copy too\n",
    "1. Downloaded 4 files as said and pklaced in input directory\n",
    "2. Used the following code to load the given MNIST dataset from downloaded ubyte file\n",
    "3. Converted the loaded images from list to numpy array, and then wrote the script to save the local copy of images in the respective mnist and mnist_t directory for train and test respectively."
   ]
  },
  {
   "cell_type": "code",
   "execution_count": 122,
   "metadata": {},
   "outputs": [],
   "source": [
    "#\n",
    "# This is a sample Notebook to demonstrate how to read \"MNIST Dataset\"\n",
    "#\n",
    "import numpy as np # linear algebra\n",
    "import struct\n",
    "from array import array\n",
    "from os.path  import join\n",
    "\n",
    "#\n",
    "# MNIST Data Loader Class\n",
    "#\n",
    "class MnistDataloader(object):\n",
    "    def __init__(self, training_images_filepath,training_labels_filepath,\n",
    "                 test_images_filepath, test_labels_filepath):\n",
    "        self.training_images_filepath = training_images_filepath\n",
    "        self.training_labels_filepath = training_labels_filepath\n",
    "        self.test_images_filepath = test_images_filepath\n",
    "        self.test_labels_filepath = test_labels_filepath\n",
    "    \n",
    "    def read_images_labels(self, images_filepath, labels_filepath):        \n",
    "        labels = []\n",
    "        with open(labels_filepath, 'rb') as file:\n",
    "            magic, size = struct.unpack(\">II\", file.read(8))\n",
    "            if magic != 2049:\n",
    "                raise ValueError('Magic number mismatch, expected 2049, got {}'.format(magic))\n",
    "            labels = array(\"B\", file.read())        \n",
    "        \n",
    "        with open(images_filepath, 'rb') as file:\n",
    "            magic, size, rows, cols = struct.unpack(\">IIII\", file.read(16))\n",
    "            if magic != 2051:\n",
    "                raise ValueError('Magic number mismatch, expected 2051, got {}'.format(magic))\n",
    "            image_data = array(\"B\", file.read())        \n",
    "        images = []\n",
    "        for i in range(size):\n",
    "            images.append([0] * rows * cols)\n",
    "        for i in range(size):\n",
    "            img = np.array(image_data[i * rows * cols:(i + 1) * rows * cols])\n",
    "            img = img.reshape(28, 28)\n",
    "            images[i][:] = img            \n",
    "        \n",
    "        return images, labels\n",
    "            \n",
    "    def load_data(self):\n",
    "        x_train, y_train = self.read_images_labels(self.training_images_filepath, self.training_labels_filepath)\n",
    "        x_test, y_test = self.read_images_labels(self.test_images_filepath, self.test_labels_filepath)\n",
    "        return (x_train, y_train),(x_test, y_test)"
   ]
  },
  {
   "cell_type": "code",
   "execution_count": 123,
   "metadata": {},
   "outputs": [
    {
     "data": {
      "image/png": "[encoded data removed]",
      "text/plain": [
       "<Figure size 2160x1440 with 15 Axes>"
      ]
     },
     "metadata": {
      "needs_background": "light"
     },
     "output_type": "display_data"
    }
   ],
   "source": [
    "# Verify Reading Dataset via MnistDataloader class\n",
    "# Set file paths based on added MNIST Datasets\n",
    "#\n",
    "input_path = 'input/'\n",
    "training_images_filepath = join(input_path, 'train-images-idx3-ubyte')\n",
    "training_labels_filepath = join(input_path, 'train-labels-idx1-ubyte')\n",
    "test_images_filepath = join(input_path, 't10k-images-idx3-ubyte')\n",
    "test_labels_filepath = join(input_path, 't10k-labels-idx1-ubyte')\n",
    "\n",
    "#\n",
    "# Helper function to show a list of images with their relating titles\n",
    "#\n",
    "def show_images(images, title_texts):\n",
    "    cols = 5\n",
    "    rows = int(len(images)/cols) + 1\n",
    "    plt.figure(figsize=(30,20))\n",
    "    index = 1    \n",
    "    for x in zip(images, title_texts):        \n",
    "        image = x[0]        \n",
    "        title_text = x[1]\n",
    "        plt.subplot(rows, cols, index)        \n",
    "        plt.imshow(image, cmap=plt.cm.gray)\n",
    "        if (title_text != ''):\n",
    "            plt.title(title_text, fontsize = 15);        \n",
    "        index += 1\n",
    "\n",
    "#\n",
    "# Load MINST dataset\n",
    "#\n",
    "mnist_dataloader = MnistDataloader(training_images_filepath, training_labels_filepath, test_images_filepath, test_labels_filepath)\n",
    "(x_train, y_train), (x_test, y_test) = mnist_dataloader.load_data()\n",
    "\n",
    "#\n",
    "# Show some random training and test images \n",
    "#\n",
    "images_2_show = []\n",
    "titles_2_show = []\n",
    "for i in range(0, 10):\n",
    "    r = random.randint(1, 60000)\n",
    "    images_2_show.append(x_train[r])\n",
    "    titles_2_show.append('training image [' + str(r) + '] = ' + str(y_train[r]))    \n",
    "\n",
    "for i in range(0, 5):\n",
    "    r = random.randint(1, 10000)\n",
    "    images_2_show.append(x_test[r])        \n",
    "    titles_2_show.append('test image [' + str(r) + '] = ' + str(y_test[r]))    \n",
    "\n",
    "show_images(images_2_show, titles_2_show)"
   ]
  },
  {
   "cell_type": "code",
   "execution_count": 35,
   "metadata": {},
   "outputs": [],
   "source": [
    "x_train = np.array(x_train)#/255\n",
    "x_test = np.array(x_test)#/255\n",
    "y_train = np.array(y_train)#/255\n",
    "y_test = np.array(y_test)#/255"
   ]
  },
  {
   "cell_type": "code",
   "execution_count": 124,
   "metadata": {},
   "outputs": [
    {
     "data": {
      "text/plain": [
       "<matplotlib.image.AxesImage at 0x7f6edc88d9a0>"
      ]
     },
     "execution_count": 124,
     "metadata": {},
     "output_type": "execute_result"
    },
    {
     "data": {
      "image/png": "[encoded data removed]",
      "text/plain": [
       "<Figure size 432x288 with 1 Axes>"
      ]
     },
     "metadata": {
      "needs_background": "light"
     },
     "output_type": "display_data"
    }
   ],
   "source": [
    "plt.imshow(x_train[0])"
   ]
  },
  {
   "cell_type": "markdown",
   "metadata": {},
   "source": [
    "## Making local copy in form of images\n",
    "NOTE: Uncomment to run if you want to"
   ]
  },
  {
   "cell_type": "code",
   "execution_count": 125,
   "metadata": {},
   "outputs": [],
   "source": [
    "# mkdir mnist"
   ]
  },
  {
   "cell_type": "code",
   "execution_count": 51,
   "metadata": {},
   "outputs": [
    {
     "name": "stdout",
     "output_type": "stream",
     "text": [
      "/home/kapie/MIDAS_Task/mnist\n"
     ]
    }
   ],
   "source": [
    "# cd mnist"
   ]
  },
  {
   "cell_type": "code",
   "execution_count": 59,
   "metadata": {},
   "outputs": [],
   "source": [
    "# mkdir 0 1 2 3 4 5 6 7 8 9"
   ]
  },
  {
   "cell_type": "code",
   "execution_count": 50,
   "metadata": {},
   "outputs": [
    {
     "name": "stdout",
     "output_type": "stream",
     "text": [
      "/home/kapie/MIDAS_Task\n"
     ]
    }
   ],
   "source": [
    "# cd .."
   ]
  },
  {
   "cell_type": "code",
   "execution_count": 45,
   "metadata": {},
   "outputs": [],
   "source": [
    "# mkdir mnist_t"
   ]
  },
  {
   "cell_type": "code",
   "execution_count": 46,
   "metadata": {},
   "outputs": [
    {
     "name": "stdout",
     "output_type": "stream",
     "text": [
      "/home/kapie/MIDAS_Task/mnist_t\n"
     ]
    }
   ],
   "source": [
    "# cd mnist_t"
   ]
  },
  {
   "cell_type": "code",
   "execution_count": 47,
   "metadata": {},
   "outputs": [],
   "source": [
    "# mkdir 0 1 2 3 4 5 6 7 8 9"
   ]
  },
  {
   "cell_type": "code",
   "execution_count": 61,
   "metadata": {},
   "outputs": [],
   "source": [
    "# for i in range(len(x_train)):\n",
    "#     im = Image.fromarray(x_train[i])\n",
    "#     im.save('{j}/train_{i}.png'.format(j = y_train[i], i = i))"
   ]
  },
  {
   "cell_type": "code",
   "execution_count": 67,
   "metadata": {},
   "outputs": [
    {
     "name": "stdout",
     "output_type": "stream",
     "text": [
      "/home/kapie/MIDAS_Task\n"
     ]
    }
   ],
   "source": [
    "# cd .."
   ]
  },
  {
   "cell_type": "code",
   "execution_count": 63,
   "metadata": {},
   "outputs": [
    {
     "name": "stdout",
     "output_type": "stream",
     "text": [
      "/home/kapie/MIDAS_Task/mnist_t\n"
     ]
    }
   ],
   "source": [
    "# cd mnist_t"
   ]
  },
  {
   "cell_type": "code",
   "execution_count": 71,
   "metadata": {},
   "outputs": [
    {
     "name": "stdout",
     "output_type": "stream",
     "text": [
      "\n"
     ]
    }
   ],
   "source": [
    "# for i in range(len(x_test)):\n",
    "#     im = Image.fromarray(x_test[i])\n",
    "#     im.save('{j}/train_{i}.png'.format(j = y_test[i], i = i))"
   ]
  },
  {
   "cell_type": "markdown",
   "metadata": {},
   "source": [
    "# Using pretrained model on loaded MNIST\n",
    "1. USING similar dfataset loading methods as before\n",
    "2. Using larger model but also introduced dense layer as now we only have 10 classes\n",
    "3. Loaded the best weights for our pretrained larger_model\n",
    "4. For once freezed the pretrained model then trained and then trained in unfreezed pretrained model"
   ]
  },
  {
   "cell_type": "code",
   "execution_count": 11,
   "metadata": {},
   "outputs": [
    {
     "name": "stdout",
     "output_type": "stream",
     "text": [
      "Found 48004 images belonging to 10 classes.\n",
      "Found 11996 images belonging to 10 classes.\n",
      "Found 10000 images belonging to 10 classes.\n"
     ]
    }
   ],
   "source": [
    "train_datagen = ImageDataGenerator(\n",
    "                                    rescale =1/255,\n",
    "                                    validation_split = 0.2\n",
    "                                  )\n",
    "train_p = train_datagen.flow_from_directory(\n",
    "                                          'mnist/',\n",
    "                                           target_size = (28, 28),\n",
    "                                           batch_size = 64,\n",
    "                                           class_mode = \"categorical\",\n",
    "                                           seed = 42,\n",
    "                                           subset = 'training'\n",
    "                                         )\n",
    "valid_p = train = train_datagen.flow_from_directory(\n",
    "                                          'mnist/',\n",
    "                                           target_size = (28, 28),\n",
    "                                           batch_size = 32,\n",
    "                                           class_mode = \"categorical\",\n",
    "                                           seed = 42,\n",
    "                                           subset = 'validation'\n",
    "                                         )\n",
    "test_datagen = ImageDataGenerator(\n",
    "                                    rescale =1/255,\n",
    "                                 )\n",
    "test_p = test_datagen.flow_from_directory(\n",
    "                                          'mnist_t/',\n",
    "                                           target_size = (28, 28),\n",
    "                                           batch_size = 32,\n",
    "                                           class_mode = \"categorical\",\n",
    "                                           seed = 42,\n",
    "                                         )"
   ]
  },
  {
   "cell_type": "code",
   "execution_count": 127,
   "metadata": {},
   "outputs": [],
   "source": [
    "model_p = larger_model('relu')\n",
    "model_p.load_weights(\"working/weights_largerModel-33-1.00.hdf5\")\n",
    "model_p.add(Dense(10, \"softmax\"))"
   ]
  },
  {
   "cell_type": "markdown",
   "metadata": {},
   "source": [
    "Freezed"
   ]
  },
  {
   "cell_type": "code",
   "execution_count": 128,
   "metadata": {},
   "outputs": [],
   "source": [
    "for layers in model_p.layers[: -1]:\n",
    "    layers.trainable = False"
   ]
  },
  {
   "cell_type": "code",
   "execution_count": 130,
   "metadata": {},
   "outputs": [],
   "source": [
    "model_p.compile(loss='categorical_crossentropy', optimizer='adam', metrics=['accuracy'])"
   ]
  },
  {
   "cell_type": "code",
   "execution_count": 131,
   "metadata": {},
   "outputs": [
    {
     "name": "stdout",
     "output_type": "stream",
     "text": [
      "WARNING:tensorflow:`period` argument is deprecated. Please use `save_freq` to specify the frequency in number of batches seen.\n",
      "Model: \"sequential_26\"\n",
      "_________________________________________________________________\n",
      "Layer (type)                 Output Shape              Param #   \n",
      "=================================================================\n",
      "conv2d_38 (Conv2D)           (None, 24, 24, 28)        2128      \n",
      "_________________________________________________________________\n",
      "max_pooling2d_35 (MaxPooling (None, 12, 12, 28)        0         \n",
      "_________________________________________________________________\n",
      "conv2d_39 (Conv2D)           (None, 10, 10, 16)        4048      \n",
      "_________________________________________________________________\n",
      "max_pooling2d_36 (MaxPooling (None, 5, 5, 16)          0         \n",
      "_________________________________________________________________\n",
      "dropout_15 (Dropout)         (None, 5, 5, 16)          0         \n",
      "_________________________________________________________________\n",
      "flatten_17 (Flatten)         (None, 400)               0         \n",
      "_________________________________________________________________\n",
      "dense_69 (Dense)             (None, 1024)              410624    \n",
      "_________________________________________________________________\n",
      "dense_70 (Dense)             (None, 512)               524800    \n",
      "_________________________________________________________________\n",
      "dense_71 (Dense)             (None, 128)               65664     \n",
      "_________________________________________________________________\n",
      "dense_72 (Dense)             (None, 62)                7998      \n",
      "_________________________________________________________________\n",
      "dense_73 (Dense)             (None, 10)                630       \n",
      "=================================================================\n",
      "Total params: 1,015,892\n",
      "Trainable params: 630\n",
      "Non-trainable params: 1,015,262\n",
      "_________________________________________________________________\n",
      "Epoch 1/50\n",
      "751/751 [==============================] - 23s 31ms/step - loss: 2.5084 - accuracy: 0.2823 - val_loss: 1.2174 - val_accuracy: 0.6083\n",
      "\n",
      "Epoch 00001: val_accuracy improved from -inf to 0.60829, saving model to working/weights_pretrainedModel-01-0.61.hdf5\n",
      "Epoch 2/50\n",
      "751/751 [==============================] - 12s 15ms/step - loss: 1.3022 - accuracy: 0.5605 - val_loss: 1.0711 - val_accuracy: 0.6618\n",
      "\n",
      "Epoch 00002: val_accuracy improved from 0.60829 to 0.66180, saving model to working/weights_pretrainedModel-02-0.66.hdf5\n",
      "Epoch 3/50\n",
      "751/751 [==============================] - 11s 14ms/step - loss: 1.2035 - accuracy: 0.5963 - val_loss: 1.0210 - val_accuracy: 0.6777\n",
      "\n",
      "Epoch 00003: val_accuracy improved from 0.66180 to 0.67773, saving model to working/weights_pretrainedModel-03-0.68.hdf5\n",
      "Epoch 4/50\n",
      "751/751 [==============================] - 11s 14ms/step - loss: 1.1722 - accuracy: 0.6027 - val_loss: 0.9947 - val_accuracy: 0.6813\n",
      "\n",
      "Epoch 00004: val_accuracy improved from 0.67773 to 0.68131, saving model to working/weights_pretrainedModel-04-0.68.hdf5\n",
      "Epoch 5/50\n",
      "751/751 [==============================] - 11s 15ms/step - loss: 1.1518 - accuracy: 0.6090 - val_loss: 0.9812 - val_accuracy: 0.6868\n",
      "\n",
      "Epoch 00005: val_accuracy improved from 0.68131 to 0.68681, saving model to working/weights_pretrainedModel-05-0.69.hdf5\n",
      "Epoch 6/50\n",
      "751/751 [==============================] - 11s 14ms/step - loss: 1.1557 - accuracy: 0.6077 - val_loss: 0.9705 - val_accuracy: 0.6890\n",
      "\n",
      "Epoch 00006: val_accuracy improved from 0.68681 to 0.68898, saving model to working/weights_pretrainedModel-06-0.69.hdf5\n",
      "Epoch 7/50\n",
      "751/751 [==============================] - 11s 15ms/step - loss: 1.1448 - accuracy: 0.6131 - val_loss: 0.9644 - val_accuracy: 0.6922\n",
      "\n",
      "Epoch 00007: val_accuracy improved from 0.68898 to 0.69223, saving model to working/weights_pretrainedModel-07-0.69.hdf5\n",
      "Epoch 8/50\n",
      "751/751 [==============================] - 11s 15ms/step - loss: 1.1378 - accuracy: 0.6130 - val_loss: 0.9596 - val_accuracy: 0.6927\n",
      "\n",
      "Epoch 00008: val_accuracy improved from 0.69223 to 0.69273, saving model to working/weights_pretrainedModel-08-0.69.hdf5\n",
      "Epoch 9/50\n",
      "751/751 [==============================] - 11s 15ms/step - loss: 1.1241 - accuracy: 0.6190 - val_loss: 0.9549 - val_accuracy: 0.6927\n",
      "\n",
      "Epoch 00009: val_accuracy did not improve from 0.69273\n",
      "Epoch 10/50\n",
      "751/751 [==============================] - 11s 14ms/step - loss: 1.1394 - accuracy: 0.6175 - val_loss: 0.9535 - val_accuracy: 0.6975\n",
      "\n",
      "Epoch 00010: val_accuracy improved from 0.69273 to 0.69748, saving model to working/weights_pretrainedModel-10-0.70.hdf5\n",
      "Epoch 11/50\n",
      "751/751 [==============================] - 11s 15ms/step - loss: 1.1239 - accuracy: 0.6170 - val_loss: 0.9496 - val_accuracy: 0.6969\n",
      "\n",
      "Epoch 00011: val_accuracy did not improve from 0.69748\n",
      "Epoch 12/50\n",
      "751/751 [==============================] - 11s 15ms/step - loss: 1.1217 - accuracy: 0.6194 - val_loss: 0.9489 - val_accuracy: 0.6932\n",
      "\n",
      "Epoch 00012: val_accuracy did not improve from 0.69748\n",
      "Epoch 13/50\n",
      "751/751 [==============================] - 11s 14ms/step - loss: 1.1250 - accuracy: 0.6185 - val_loss: 0.9467 - val_accuracy: 0.6971\n",
      "\n",
      "Epoch 00013: val_accuracy did not improve from 0.69748\n",
      "Epoch 14/50\n",
      "751/751 [==============================] - 12s 15ms/step - loss: 1.1218 - accuracy: 0.6222 - val_loss: 0.9459 - val_accuracy: 0.6986\n",
      "\n",
      "Epoch 00014: val_accuracy improved from 0.69748 to 0.69857, saving model to working/weights_pretrainedModel-14-0.70.hdf5\n",
      "Epoch 15/50\n",
      "751/751 [==============================] - 11s 15ms/step - loss: 1.1173 - accuracy: 0.6225 - val_loss: 0.9414 - val_accuracy: 0.6989\n",
      "\n",
      "Epoch 00015: val_accuracy improved from 0.69857 to 0.69890, saving model to working/weights_pretrainedModel-15-0.70.hdf5\n",
      "Epoch 16/50\n",
      "751/751 [==============================] - 12s 16ms/step - loss: 1.1202 - accuracy: 0.6175 - val_loss: 0.9394 - val_accuracy: 0.6990\n",
      "\n",
      "Epoch 00016: val_accuracy improved from 0.69890 to 0.69898, saving model to working/weights_pretrainedModel-16-0.70.hdf5\n",
      "Epoch 17/50\n",
      "751/751 [==============================] - 11s 14ms/step - loss: 1.1194 - accuracy: 0.6230 - val_loss: 0.9389 - val_accuracy: 0.6996\n",
      "\n",
      "Epoch 00017: val_accuracy improved from 0.69898 to 0.69965, saving model to working/weights_pretrainedModel-17-0.70.hdf5\n",
      "Epoch 18/50\n",
      "751/751 [==============================] - 11s 14ms/step - loss: 1.1273 - accuracy: 0.6165 - val_loss: 0.9402 - val_accuracy: 0.6982\n",
      "\n",
      "Epoch 00018: val_accuracy did not improve from 0.69965\n",
      "Epoch 19/50\n",
      "751/751 [==============================] - 11s 14ms/step - loss: 1.1159 - accuracy: 0.6208 - val_loss: 0.9375 - val_accuracy: 0.6998\n",
      "\n",
      "Epoch 00019: val_accuracy improved from 0.69965 to 0.69982, saving model to working/weights_pretrainedModel-19-0.70.hdf5\n",
      "Epoch 20/50\n",
      "751/751 [==============================] - 11s 14ms/step - loss: 1.1286 - accuracy: 0.6196 - val_loss: 0.9373 - val_accuracy: 0.7007\n",
      "\n",
      "Epoch 00020: val_accuracy improved from 0.69982 to 0.70073, saving model to working/weights_pretrainedModel-20-0.70.hdf5\n",
      "Epoch 21/50\n",
      "751/751 [==============================] - 11s 14ms/step - loss: 1.1189 - accuracy: 0.6191 - val_loss: 0.9371 - val_accuracy: 0.6983\n",
      "\n",
      "Epoch 00021: val_accuracy did not improve from 0.70073\n",
      "Epoch 22/50\n",
      "751/751 [==============================] - 11s 14ms/step - loss: 1.1170 - accuracy: 0.6187 - val_loss: 0.9343 - val_accuracy: 0.7019\n",
      "\n",
      "Epoch 00022: val_accuracy improved from 0.70073 to 0.70190, saving model to working/weights_pretrainedModel-22-0.70.hdf5\n",
      "Epoch 23/50\n",
      "751/751 [==============================] - 12s 16ms/step - loss: 1.1250 - accuracy: 0.6170 - val_loss: 0.9403 - val_accuracy: 0.6978\n",
      "\n",
      "Epoch 00023: val_accuracy did not improve from 0.70190\n",
      "Epoch 24/50\n",
      "751/751 [==============================] - 12s 16ms/step - loss: 1.1171 - accuracy: 0.6258 - val_loss: 0.9369 - val_accuracy: 0.6958\n",
      "\n",
      "Epoch 00024: val_accuracy did not improve from 0.70190\n",
      "Epoch 25/50\n",
      "751/751 [==============================] - 11s 14ms/step - loss: 1.1109 - accuracy: 0.6218 - val_loss: 0.9342 - val_accuracy: 0.6987\n",
      "\n",
      "Epoch 00025: val_accuracy did not improve from 0.70190\n",
      "Epoch 26/50\n",
      "751/751 [==============================] - 11s 15ms/step - loss: 1.1217 - accuracy: 0.6218 - val_loss: 0.9335 - val_accuracy: 0.7006\n",
      "\n",
      "Epoch 00026: val_accuracy did not improve from 0.70190\n",
      "Epoch 27/50\n"
     ]
    },
    {
     "name": "stdout",
     "output_type": "stream",
     "text": [
      "751/751 [==============================] - 11s 14ms/step - loss: 1.1123 - accuracy: 0.6232 - val_loss: 0.9326 - val_accuracy: 0.7007\n",
      "\n",
      "Epoch 00027: val_accuracy did not improve from 0.70190\n",
      "Epoch 28/50\n",
      "751/751 [==============================] - 10s 14ms/step - loss: 1.1191 - accuracy: 0.6225 - val_loss: 0.9315 - val_accuracy: 0.7013\n",
      "\n",
      "Epoch 00028: val_accuracy did not improve from 0.70190\n",
      "Epoch 29/50\n",
      "751/751 [==============================] - 10s 14ms/step - loss: 1.1109 - accuracy: 0.6218 - val_loss: 0.9309 - val_accuracy: 0.7010\n",
      "\n",
      "Epoch 00029: val_accuracy did not improve from 0.70190\n",
      "Epoch 30/50\n",
      "751/751 [==============================] - 11s 14ms/step - loss: 1.1187 - accuracy: 0.6165 - val_loss: 0.9307 - val_accuracy: 0.7017\n",
      "\n",
      "Epoch 00030: val_accuracy did not improve from 0.70190\n",
      "Epoch 31/50\n",
      "751/751 [==============================] - 10s 14ms/step - loss: 1.1186 - accuracy: 0.6226 - val_loss: 0.9316 - val_accuracy: 0.6995\n",
      "\n",
      "Epoch 00031: val_accuracy did not improve from 0.70190\n",
      "Epoch 32/50\n",
      "751/751 [==============================] - 11s 14ms/step - loss: 1.1090 - accuracy: 0.6229 - val_loss: 0.9326 - val_accuracy: 0.6981\n",
      "\n",
      "Epoch 00032: val_accuracy did not improve from 0.70190\n",
      "Epoch 33/50\n",
      "751/751 [==============================] - 11s 14ms/step - loss: 1.1060 - accuracy: 0.6228 - val_loss: 0.9314 - val_accuracy: 0.7007\n",
      "\n",
      "Epoch 00033: val_accuracy did not improve from 0.70190\n",
      "Epoch 34/50\n",
      "751/751 [==============================] - 10s 14ms/step - loss: 1.1153 - accuracy: 0.6204 - val_loss: 0.9303 - val_accuracy: 0.6991\n",
      "\n",
      "Epoch 00034: val_accuracy did not improve from 0.70190\n",
      "Epoch 35/50\n",
      "751/751 [==============================] - 11s 14ms/step - loss: 1.1195 - accuracy: 0.6204 - val_loss: 0.9313 - val_accuracy: 0.6998\n",
      "\n",
      "Epoch 00035: val_accuracy did not improve from 0.70190\n",
      "Epoch 36/50\n",
      "751/751 [==============================] - 11s 14ms/step - loss: 1.1284 - accuracy: 0.6162 - val_loss: 0.9312 - val_accuracy: 0.6985\n",
      "\n",
      "Epoch 00036: val_accuracy did not improve from 0.70190\n",
      "Epoch 37/50\n",
      "751/751 [==============================] - 11s 15ms/step - loss: 1.1067 - accuracy: 0.6263 - val_loss: 0.9324 - val_accuracy: 0.6976\n",
      "\n",
      "Epoch 00037: val_accuracy did not improve from 0.70190\n",
      "Epoch 38/50\n",
      "751/751 [==============================] - 12s 16ms/step - loss: 1.1099 - accuracy: 0.6226 - val_loss: 0.9298 - val_accuracy: 0.6996\n",
      "\n",
      "Epoch 00038: val_accuracy did not improve from 0.70190\n",
      "Epoch 39/50\n",
      "751/751 [==============================] - 11s 14ms/step - loss: 1.1143 - accuracy: 0.6200 - val_loss: 0.9285 - val_accuracy: 0.7007\n",
      "\n",
      "Epoch 00039: val_accuracy did not improve from 0.70190\n",
      "Epoch 40/50\n",
      "751/751 [==============================] - 11s 14ms/step - loss: 1.1081 - accuracy: 0.6241 - val_loss: 0.9325 - val_accuracy: 0.6990\n",
      "\n",
      "Epoch 00040: val_accuracy did not improve from 0.70190\n",
      "Epoch 41/50\n",
      "751/751 [==============================] - 14s 18ms/step - loss: 1.1176 - accuracy: 0.6196 - val_loss: 0.9333 - val_accuracy: 0.6951\n",
      "\n",
      "Epoch 00041: val_accuracy did not improve from 0.70190\n",
      "Epoch 42/50\n",
      "751/751 [==============================] - 13s 17ms/step - loss: 1.1167 - accuracy: 0.6197 - val_loss: 0.9316 - val_accuracy: 0.7000\n",
      "\n",
      "Epoch 00042: val_accuracy did not improve from 0.70190\n",
      "Epoch 43/50\n",
      "751/751 [==============================] - 13s 17ms/step - loss: 1.1191 - accuracy: 0.6197 - val_loss: 0.9275 - val_accuracy: 0.7025\n",
      "\n",
      "Epoch 00043: val_accuracy improved from 0.70190 to 0.70248, saving model to working/weights_pretrainedModel-43-0.70.hdf5\n",
      "Epoch 44/50\n",
      "751/751 [==============================] - 12s 16ms/step - loss: 1.1206 - accuracy: 0.6188 - val_loss: 0.9287 - val_accuracy: 0.7006\n",
      "\n",
      "Epoch 00044: val_accuracy did not improve from 0.70248\n",
      "Epoch 45/50\n",
      "751/751 [==============================] - 11s 15ms/step - loss: 1.1077 - accuracy: 0.6255 - val_loss: 0.9288 - val_accuracy: 0.7025\n",
      "\n",
      "Epoch 00045: val_accuracy did not improve from 0.70248\n",
      "Epoch 46/50\n",
      "751/751 [==============================] - 11s 14ms/step - loss: 1.1184 - accuracy: 0.6209 - val_loss: 0.9318 - val_accuracy: 0.6967\n",
      "\n",
      "Epoch 00046: val_accuracy did not improve from 0.70248\n",
      "Epoch 47/50\n",
      "751/751 [==============================] - 11s 15ms/step - loss: 1.1174 - accuracy: 0.6240 - val_loss: 0.9271 - val_accuracy: 0.7039\n",
      "\n",
      "Epoch 00047: val_accuracy improved from 0.70248 to 0.70390, saving model to working/weights_pretrainedModel-47-0.70.hdf5\n",
      "Epoch 48/50\n",
      "751/751 [==============================] - 11s 15ms/step - loss: 1.1084 - accuracy: 0.6236 - val_loss: 0.9284 - val_accuracy: 0.7022\n",
      "\n",
      "Epoch 00048: val_accuracy did not improve from 0.70390\n",
      "Epoch 49/50\n",
      "751/751 [==============================] - 11s 15ms/step - loss: 1.1132 - accuracy: 0.6186 - val_loss: 0.9294 - val_accuracy: 0.6998\n",
      "\n",
      "Epoch 00049: val_accuracy did not improve from 0.70390\n",
      "Epoch 50/50\n",
      "751/751 [==============================] - 11s 15ms/step - loss: 1.1014 - accuracy: 0.6249 - val_loss: 0.9315 - val_accuracy: 0.6993\n",
      "\n",
      "Epoch 00050: val_accuracy did not improve from 0.70390\n"
     ]
    }
   ],
   "source": [
    "checkpoint_p = ModelCheckpoint(\n",
    "    'working/weights_pretrainedModel-{epoch:02d}-{val_accuracy:.2f}.hdf5',\n",
    "    monitor='val_accuracy',\n",
    "    verbose=1,\n",
    "    save_best_only=True,\n",
    "    mode='max',\n",
    "    period = 1)\n",
    "model_p.summary()\n",
    "history_p = model_p.fit(train_p, validation_data = valid_p, epochs = 50, verbose = 1, callbacks = [checkpoint_p])"
   ]
  },
  {
   "cell_type": "markdown",
   "metadata": {},
   "source": [
    "# Best Weights - working/weights_pretrainedModel-43-0.70.hdf5\n",
    "### Validation Accuracy = 0.70"
   ]
  },
  {
   "cell_type": "code",
   "execution_count": 132,
   "metadata": {},
   "outputs": [
    {
     "data": {
      "image/png": "[encoded data removed]",
      "text/plain": [
       "<Figure size 432x288 with 1 Axes>"
      ]
     },
     "metadata": {
      "needs_background": "light"
     },
     "output_type": "display_data"
    },
    {
     "data": {
      "image/png": "[encoded data removed]",
      "text/plain": [
       "<Figure size 432x288 with 1 Axes>"
      ]
     },
     "metadata": {
      "needs_background": "light"
     },
     "output_type": "display_data"
    }
   ],
   "source": [
    "plot_p = pd.DataFrame(history_p.history)\n",
    "plot_p.loc[:,[\"loss\", \"val_loss\"]].plot();\n",
    "plot_p.loc[:,[\"accuracy\", \"val_accuracy\"]].plot();"
   ]
  },
  {
   "cell_type": "markdown",
   "metadata": {},
   "source": [
    "converged at before 8 epochs\n",
    "### Not quite good lets try finetuning the pre trained model by unfreezing the layers"
   ]
  },
  {
   "cell_type": "markdown",
   "metadata": {},
   "source": [
    "# NOW unfreezed pretrained model"
   ]
  },
  {
   "cell_type": "code",
   "execution_count": 133,
   "metadata": {},
   "outputs": [],
   "source": [
    "model_pu = larger_model('relu')\n",
    "model_pu.load_weights(\"working/weights_largerModel-33-1.00.hdf5\")\n",
    "model_pu.add(Dense(10, \"softmax\"))"
   ]
  },
  {
   "cell_type": "markdown",
   "metadata": {},
   "source": [
    "Unfreezed"
   ]
  },
  {
   "cell_type": "code",
   "execution_count": 134,
   "metadata": {},
   "outputs": [],
   "source": [
    "model_pu.compile(loss='categorical_crossentropy', optimizer='adam', metrics=['accuracy'])"
   ]
  },
  {
   "cell_type": "code",
   "execution_count": 135,
   "metadata": {},
   "outputs": [
    {
     "name": "stdout",
     "output_type": "stream",
     "text": [
      "WARNING:tensorflow:`period` argument is deprecated. Please use `save_freq` to specify the frequency in number of batches seen.\n",
      "Model: \"sequential_27\"\n",
      "_________________________________________________________________\n",
      "Layer (type)                 Output Shape              Param #   \n",
      "=================================================================\n",
      "conv2d_40 (Conv2D)           (None, 24, 24, 28)        2128      \n",
      "_________________________________________________________________\n",
      "max_pooling2d_37 (MaxPooling (None, 12, 12, 28)        0         \n",
      "_________________________________________________________________\n",
      "conv2d_41 (Conv2D)           (None, 10, 10, 16)        4048      \n",
      "_________________________________________________________________\n",
      "max_pooling2d_38 (MaxPooling (None, 5, 5, 16)          0         \n",
      "_________________________________________________________________\n",
      "dropout_16 (Dropout)         (None, 5, 5, 16)          0         \n",
      "_________________________________________________________________\n",
      "flatten_18 (Flatten)         (None, 400)               0         \n",
      "_________________________________________________________________\n",
      "dense_74 (Dense)             (None, 1024)              410624    \n",
      "_________________________________________________________________\n",
      "dense_75 (Dense)             (None, 512)               524800    \n",
      "_________________________________________________________________\n",
      "dense_76 (Dense)             (None, 128)               65664     \n",
      "_________________________________________________________________\n",
      "dense_77 (Dense)             (None, 62)                7998      \n",
      "_________________________________________________________________\n",
      "dense_78 (Dense)             (None, 10)                630       \n",
      "=================================================================\n",
      "Total params: 1,015,892\n",
      "Trainable params: 1,015,892\n",
      "Non-trainable params: 0\n",
      "_________________________________________________________________\n",
      "Epoch 1/50\n",
      "751/751 [==============================] - 12s 15ms/step - loss: 0.5735 - accuracy: 0.8165 - val_loss: 0.0690 - val_accuracy: 0.9791\n",
      "\n",
      "Epoch 00001: val_accuracy improved from -inf to 0.97908, saving model to working/weights_pretrainedModel-01-0.98.hdf5\n",
      "Epoch 2/50\n",
      "751/751 [==============================] - 12s 16ms/step - loss: 0.0814 - accuracy: 0.9749 - val_loss: 0.0591 - val_accuracy: 0.9827\n",
      "\n",
      "Epoch 00002: val_accuracy improved from 0.97908 to 0.98266, saving model to working/weights_pretrainedModel-02-0.98.hdf5\n",
      "Epoch 3/50\n",
      "751/751 [==============================] - 11s 15ms/step - loss: 0.0547 - accuracy: 0.9829 - val_loss: 0.0430 - val_accuracy: 0.9869\n",
      "\n",
      "Epoch 00003: val_accuracy improved from 0.98266 to 0.98691, saving model to working/weights_pretrainedModel-03-0.99.hdf5\n",
      "Epoch 4/50\n",
      "751/751 [==============================] - 11s 15ms/step - loss: 0.0453 - accuracy: 0.9867 - val_loss: 0.0546 - val_accuracy: 0.9857\n",
      "\n",
      "Epoch 00004: val_accuracy did not improve from 0.98691\n",
      "Epoch 5/50\n",
      "751/751 [==============================] - 11s 15ms/step - loss: 0.0369 - accuracy: 0.9888 - val_loss: 0.0344 - val_accuracy: 0.9907\n",
      "\n",
      "Epoch 00005: val_accuracy improved from 0.98691 to 0.99066, saving model to working/weights_pretrainedModel-05-0.99.hdf5\n",
      "Epoch 6/50\n",
      "751/751 [==============================] - 11s 15ms/step - loss: 0.0315 - accuracy: 0.9901 - val_loss: 0.0461 - val_accuracy: 0.9872\n",
      "\n",
      "Epoch 00006: val_accuracy did not improve from 0.99066\n",
      "Epoch 7/50\n",
      "751/751 [==============================] - 11s 15ms/step - loss: 0.0328 - accuracy: 0.9904 - val_loss: 0.0412 - val_accuracy: 0.9877\n",
      "\n",
      "Epoch 00007: val_accuracy did not improve from 0.99066\n",
      "Epoch 8/50\n",
      "751/751 [==============================] - 11s 15ms/step - loss: 0.0250 - accuracy: 0.9924 - val_loss: 0.0496 - val_accuracy: 0.9865\n",
      "\n",
      "Epoch 00008: val_accuracy did not improve from 0.99066\n",
      "Epoch 9/50\n",
      "751/751 [==============================] - 11s 15ms/step - loss: 0.0268 - accuracy: 0.9917 - val_loss: 0.0459 - val_accuracy: 0.9881\n",
      "\n",
      "Epoch 00009: val_accuracy did not improve from 0.99066\n",
      "Epoch 10/50\n",
      "751/751 [==============================] - 11s 15ms/step - loss: 0.0233 - accuracy: 0.9931 - val_loss: 0.0401 - val_accuracy: 0.9899\n",
      "\n",
      "Epoch 00010: val_accuracy did not improve from 0.99066\n",
      "Epoch 11/50\n",
      "751/751 [==============================] - 11s 15ms/step - loss: 0.0209 - accuracy: 0.9942 - val_loss: 0.0329 - val_accuracy: 0.9907\n",
      "\n",
      "Epoch 00011: val_accuracy did not improve from 0.99066\n",
      "Epoch 12/50\n",
      "751/751 [==============================] - 11s 15ms/step - loss: 0.0181 - accuracy: 0.9946 - val_loss: 0.0394 - val_accuracy: 0.9899\n",
      "\n",
      "Epoch 00012: val_accuracy did not improve from 0.99066\n",
      "Epoch 13/50\n",
      "751/751 [==============================] - 11s 15ms/step - loss: 0.0222 - accuracy: 0.9935 - val_loss: 0.0392 - val_accuracy: 0.9902\n",
      "\n",
      "Epoch 00013: val_accuracy did not improve from 0.99066\n",
      "Epoch 14/50\n",
      "751/751 [==============================] - 11s 15ms/step - loss: 0.0174 - accuracy: 0.9953 - val_loss: 0.0392 - val_accuracy: 0.9906\n",
      "\n",
      "Epoch 00014: val_accuracy did not improve from 0.99066\n",
      "Epoch 15/50\n",
      "751/751 [==============================] - 11s 15ms/step - loss: 0.0178 - accuracy: 0.9947 - val_loss: 0.0457 - val_accuracy: 0.9892\n",
      "\n",
      "Epoch 00015: val_accuracy did not improve from 0.99066\n",
      "Epoch 16/50\n",
      "751/751 [==============================] - 11s 15ms/step - loss: 0.0216 - accuracy: 0.9928 - val_loss: 0.0417 - val_accuracy: 0.9888\n",
      "\n",
      "Epoch 00016: val_accuracy did not improve from 0.99066\n",
      "Epoch 17/50\n",
      "751/751 [==============================] - 11s 15ms/step - loss: 0.0155 - accuracy: 0.9956 - val_loss: 0.0373 - val_accuracy: 0.9907\n",
      "\n",
      "Epoch 00017: val_accuracy did not improve from 0.99066\n",
      "Epoch 18/50\n",
      "751/751 [==============================] - 11s 15ms/step - loss: 0.0149 - accuracy: 0.9954 - val_loss: 0.0321 - val_accuracy: 0.9925\n",
      "\n",
      "Epoch 00018: val_accuracy improved from 0.99066 to 0.99250, saving model to working/weights_pretrainedModel-18-0.99.hdf5\n",
      "Epoch 19/50\n",
      "751/751 [==============================] - 11s 15ms/step - loss: 0.0139 - accuracy: 0.9957 - val_loss: 0.0336 - val_accuracy: 0.9919\n",
      "\n",
      "Epoch 00019: val_accuracy did not improve from 0.99250\n",
      "Epoch 20/50\n",
      "751/751 [==============================] - 11s 15ms/step - loss: 0.0145 - accuracy: 0.9961 - val_loss: 0.0401 - val_accuracy: 0.9916\n",
      "\n",
      "Epoch 00020: val_accuracy did not improve from 0.99250\n",
      "Epoch 21/50\n",
      "751/751 [==============================] - 11s 15ms/step - loss: 0.0154 - accuracy: 0.9957 - val_loss: 0.0431 - val_accuracy: 0.9898\n",
      "\n",
      "Epoch 00021: val_accuracy did not improve from 0.99250\n",
      "Epoch 22/50\n",
      "751/751 [==============================] - 11s 15ms/step - loss: 0.0140 - accuracy: 0.9958 - val_loss: 0.0461 - val_accuracy: 0.9903\n",
      "\n",
      "Epoch 00022: val_accuracy did not improve from 0.99250\n",
      "Epoch 23/50\n",
      "751/751 [==============================] - 11s 15ms/step - loss: 0.0173 - accuracy: 0.9951 - val_loss: 0.0559 - val_accuracy: 0.9863\n",
      "\n",
      "Epoch 00023: val_accuracy did not improve from 0.99250\n",
      "Epoch 24/50\n",
      "751/751 [==============================] - 11s 15ms/step - loss: 0.0125 - accuracy: 0.9968 - val_loss: 0.0450 - val_accuracy: 0.9912\n",
      "\n",
      "Epoch 00024: val_accuracy did not improve from 0.99250\n",
      "Epoch 25/50\n",
      "751/751 [==============================] - 11s 15ms/step - loss: 0.0132 - accuracy: 0.9958 - val_loss: 0.0430 - val_accuracy: 0.9906\n",
      "\n",
      "Epoch 00025: val_accuracy did not improve from 0.99250\n",
      "Epoch 26/50\n",
      "751/751 [==============================] - 11s 15ms/step - loss: 0.0108 - accuracy: 0.9966 - val_loss: 0.0536 - val_accuracy: 0.9902\n",
      "\n",
      "Epoch 00026: val_accuracy did not improve from 0.99250\n",
      "Epoch 27/50\n",
      "751/751 [==============================] - 11s 14ms/step - loss: 0.0159 - accuracy: 0.9958 - val_loss: 0.0392 - val_accuracy: 0.9906\n",
      "\n",
      "Epoch 00027: val_accuracy did not improve from 0.99250\n",
      "Epoch 28/50\n",
      "751/751 [==============================] - 11s 15ms/step - loss: 0.0110 - accuracy: 0.9973 - val_loss: 0.0425 - val_accuracy: 0.9918\n",
      "\n",
      "Epoch 00028: val_accuracy did not improve from 0.99250\n",
      "Epoch 29/50\n",
      "751/751 [==============================] - 11s 15ms/step - loss: 0.0110 - accuracy: 0.9976 - val_loss: 0.0438 - val_accuracy: 0.9907\n",
      "\n",
      "Epoch 00029: val_accuracy did not improve from 0.99250\n",
      "Epoch 30/50\n",
      "751/751 [==============================] - 11s 14ms/step - loss: 0.0117 - accuracy: 0.9968 - val_loss: 0.0441 - val_accuracy: 0.9917\n"
     ]
    },
    {
     "name": "stdout",
     "output_type": "stream",
     "text": [
      "\n",
      "Epoch 00030: val_accuracy did not improve from 0.99250\n",
      "Epoch 31/50\n",
      "751/751 [==============================] - 11s 14ms/step - loss: 0.0127 - accuracy: 0.9967 - val_loss: 0.0388 - val_accuracy: 0.9918\n",
      "\n",
      "Epoch 00031: val_accuracy did not improve from 0.99250\n",
      "Epoch 32/50\n",
      "751/751 [==============================] - 11s 14ms/step - loss: 0.0102 - accuracy: 0.9970 - val_loss: 0.0336 - val_accuracy: 0.9930\n",
      "\n",
      "Epoch 00032: val_accuracy improved from 0.99250 to 0.99300, saving model to working/weights_pretrainedModel-32-0.99.hdf5\n",
      "Epoch 33/50\n",
      "751/751 [==============================] - 11s 14ms/step - loss: 0.0089 - accuracy: 0.9978 - val_loss: 0.0631 - val_accuracy: 0.9906\n",
      "\n",
      "Epoch 00033: val_accuracy did not improve from 0.99300\n",
      "Epoch 34/50\n",
      "751/751 [==============================] - 11s 15ms/step - loss: 0.0150 - accuracy: 0.9962 - val_loss: 0.0575 - val_accuracy: 0.9899\n",
      "\n",
      "Epoch 00034: val_accuracy did not improve from 0.99300\n",
      "Epoch 35/50\n",
      "751/751 [==============================] - 12s 16ms/step - loss: 0.0126 - accuracy: 0.9965 - val_loss: 0.0354 - val_accuracy: 0.9927\n",
      "\n",
      "Epoch 00035: val_accuracy did not improve from 0.99300\n",
      "Epoch 36/50\n",
      "751/751 [==============================] - 11s 14ms/step - loss: 0.0095 - accuracy: 0.9980 - val_loss: 0.0391 - val_accuracy: 0.9920\n",
      "\n",
      "Epoch 00036: val_accuracy did not improve from 0.99300\n",
      "Epoch 37/50\n",
      "751/751 [==============================] - 11s 15ms/step - loss: 0.0089 - accuracy: 0.9973 - val_loss: 0.0394 - val_accuracy: 0.9917\n",
      "\n",
      "Epoch 00037: val_accuracy did not improve from 0.99300\n",
      "Epoch 38/50\n",
      "751/751 [==============================] - 11s 14ms/step - loss: 0.0092 - accuracy: 0.9975 - val_loss: 0.0356 - val_accuracy: 0.9921\n",
      "\n",
      "Epoch 00038: val_accuracy did not improve from 0.99300\n",
      "Epoch 39/50\n",
      "751/751 [==============================] - 11s 15ms/step - loss: 0.0084 - accuracy: 0.9977 - val_loss: 0.0352 - val_accuracy: 0.9922\n",
      "\n",
      "Epoch 00039: val_accuracy did not improve from 0.99300\n",
      "Epoch 40/50\n",
      "751/751 [==============================] - 11s 14ms/step - loss: 0.0086 - accuracy: 0.9981 - val_loss: 0.0538 - val_accuracy: 0.9907\n",
      "\n",
      "Epoch 00040: val_accuracy did not improve from 0.99300\n",
      "Epoch 41/50\n",
      "751/751 [==============================] - 11s 14ms/step - loss: 0.0136 - accuracy: 0.9966 - val_loss: 0.0413 - val_accuracy: 0.9918\n",
      "\n",
      "Epoch 00041: val_accuracy did not improve from 0.99300\n",
      "Epoch 42/50\n",
      "751/751 [==============================] - 11s 15ms/step - loss: 0.0075 - accuracy: 0.9978 - val_loss: 0.0440 - val_accuracy: 0.9915\n",
      "\n",
      "Epoch 00042: val_accuracy did not improve from 0.99300\n",
      "Epoch 43/50\n",
      "751/751 [==============================] - 11s 14ms/step - loss: 0.0079 - accuracy: 0.9976 - val_loss: 0.0466 - val_accuracy: 0.9922\n",
      "\n",
      "Epoch 00043: val_accuracy did not improve from 0.99300\n",
      "Epoch 44/50\n",
      "751/751 [==============================] - 11s 15ms/step - loss: 0.0063 - accuracy: 0.9983 - val_loss: 0.0570 - val_accuracy: 0.9920\n",
      "\n",
      "Epoch 00044: val_accuracy did not improve from 0.99300\n",
      "Epoch 45/50\n",
      "751/751 [==============================] - 11s 15ms/step - loss: 0.0115 - accuracy: 0.9975 - val_loss: 0.0501 - val_accuracy: 0.9909\n",
      "\n",
      "Epoch 00045: val_accuracy did not improve from 0.99300\n",
      "Epoch 46/50\n",
      "751/751 [==============================] - 11s 15ms/step - loss: 0.0100 - accuracy: 0.9975 - val_loss: 0.0466 - val_accuracy: 0.9915\n",
      "\n",
      "Epoch 00046: val_accuracy did not improve from 0.99300\n",
      "Epoch 47/50\n",
      "751/751 [==============================] - 11s 15ms/step - loss: 0.0083 - accuracy: 0.9973 - val_loss: 0.0459 - val_accuracy: 0.9921\n",
      "\n",
      "Epoch 00047: val_accuracy did not improve from 0.99300\n",
      "Epoch 48/50\n",
      "751/751 [==============================] - 11s 15ms/step - loss: 0.0058 - accuracy: 0.9982 - val_loss: 0.0443 - val_accuracy: 0.9919\n",
      "\n",
      "Epoch 00048: val_accuracy did not improve from 0.99300\n",
      "Epoch 49/50\n",
      "751/751 [==============================] - 11s 15ms/step - loss: 0.0068 - accuracy: 0.9982 - val_loss: 0.0494 - val_accuracy: 0.9905\n",
      "\n",
      "Epoch 00049: val_accuracy did not improve from 0.99300\n",
      "Epoch 50/50\n",
      "751/751 [==============================] - 11s 15ms/step - loss: 0.0098 - accuracy: 0.9972 - val_loss: 0.0482 - val_accuracy: 0.9911\n",
      "\n",
      "Epoch 00050: val_accuracy did not improve from 0.99300\n"
     ]
    }
   ],
   "source": [
    "checkpoint_pu = ModelCheckpoint(\n",
    "    'working/weights_pretrainedModel-{epoch:02d}-{val_accuracy:.2f}.hdf5',\n",
    "    monitor='val_accuracy',\n",
    "    verbose=1,\n",
    "    save_best_only=True,\n",
    "    mode='max',\n",
    "    period = 1)\n",
    "model_pu.summary()\n",
    "history_pu = model_pu.fit(train_p, validation_data = valid_p, epochs = 50, verbose = 1, callbacks = [checkpoint_pu])"
   ]
  },
  {
   "cell_type": "code",
   "execution_count": 137,
   "metadata": {},
   "outputs": [
    {
     "data": {
      "image/png": "[encoded data removed]",
      "text/plain": [
       "<Figure size 432x288 with 1 Axes>"
      ]
     },
     "metadata": {
      "needs_background": "light"
     },
     "output_type": "display_data"
    },
    {
     "data": {
      "image/png": "[encoded data removed]",
      "text/plain": [
       "<Figure size 432x288 with 1 Axes>"
      ]
     },
     "metadata": {
      "needs_background": "light"
     },
     "output_type": "display_data"
    }
   ],
   "source": [
    "plot_pu = pd.DataFrame(history_pu.history)\n",
    "plot_pu.loc[:,[\"loss\", \"val_loss\"]].plot();\n",
    "plot_pu.loc[:,[\"accuracy\", \"val_accuracy\"]].plot();"
   ]
  },
  {
   "cell_type": "markdown",
   "metadata": {},
   "source": [
    "# Best Weights - working/weights_pretrainedModel-32-0.99.hdf5"
   ]
  },
  {
   "cell_type": "markdown",
   "metadata": {},
   "source": [
    "# Results for unfreezed pretrained model\n",
    "### Model seems to ahive convergence within first 3 epochs and accuracy for validation is about 0.99 which is much better than Freezed pretrained model."
   ]
  },
  {
   "cell_type": "markdown",
   "metadata": {},
   "source": [
    "# Now trying randomly initialized weights without loading pretrained weights"
   ]
  },
  {
   "cell_type": "code",
   "execution_count": 5,
   "metadata": {},
   "outputs": [],
   "source": [
    "model_r = larger_model('relu')\n",
    "model_r.add(Dense(10, \"softmax\"))"
   ]
  },
  {
   "cell_type": "markdown",
   "metadata": {},
   "source": [
    "Randomly Initialized"
   ]
  },
  {
   "cell_type": "code",
   "execution_count": 6,
   "metadata": {},
   "outputs": [],
   "source": [
    "model_r.compile(loss='categorical_crossentropy', optimizer='adam', metrics=['accuracy'])"
   ]
  },
  {
   "cell_type": "code",
   "execution_count": 8,
   "metadata": {},
   "outputs": [
    {
     "name": "stdout",
     "output_type": "stream",
     "text": [
      "WARNING:tensorflow:`period` argument is deprecated. Please use `save_freq` to specify the frequency in number of batches seen.\n",
      "Model: \"sequential\"\n",
      "_________________________________________________________________\n",
      "Layer (type)                 Output Shape              Param #   \n",
      "=================================================================\n",
      "conv2d (Conv2D)              (None, 24, 24, 28)        2128      \n",
      "_________________________________________________________________\n",
      "max_pooling2d (MaxPooling2D) (None, 12, 12, 28)        0         \n",
      "_________________________________________________________________\n",
      "conv2d_1 (Conv2D)            (None, 10, 10, 16)        4048      \n",
      "_________________________________________________________________\n",
      "max_pooling2d_1 (MaxPooling2 (None, 5, 5, 16)          0         \n",
      "_________________________________________________________________\n",
      "dropout (Dropout)            (None, 5, 5, 16)          0         \n",
      "_________________________________________________________________\n",
      "flatten (Flatten)            (None, 400)               0         \n",
      "_________________________________________________________________\n",
      "dense (Dense)                (None, 1024)              410624    \n",
      "_________________________________________________________________\n",
      "dense_1 (Dense)              (None, 512)               524800    \n",
      "_________________________________________________________________\n",
      "dense_2 (Dense)              (None, 128)               65664     \n",
      "_________________________________________________________________\n",
      "dense_3 (Dense)              (None, 62)                7998      \n",
      "_________________________________________________________________\n",
      "dense_4 (Dense)              (None, 10)                630       \n",
      "=================================================================\n",
      "Total params: 1,015,892\n",
      "Trainable params: 1,015,892\n",
      "Non-trainable params: 0\n",
      "_________________________________________________________________\n",
      "Epoch 1/50\n",
      "751/751 [==============================] - 17s 18ms/step - loss: 0.4308 - accuracy: 0.8586 - val_loss: 0.0709 - val_accuracy: 0.9790\n",
      "\n",
      "Epoch 00001: val_accuracy improved from -inf to 0.97899, saving model to working/weights_task2randominitialized-01-0.98.hdf5\n",
      "Epoch 2/50\n",
      "751/751 [==============================] - 11s 15ms/step - loss: 0.0724 - accuracy: 0.9775 - val_loss: 0.0563 - val_accuracy: 0.9836\n",
      "\n",
      "Epoch 00002: val_accuracy improved from 0.97899 to 0.98358, saving model to working/weights_task2randominitialized-02-0.98.hdf5\n",
      "Epoch 3/50\n",
      "751/751 [==============================] - 12s 16ms/step - loss: 0.0614 - accuracy: 0.9823 - val_loss: 0.0462 - val_accuracy: 0.9866\n",
      "\n",
      "Epoch 00003: val_accuracy improved from 0.98358 to 0.98658, saving model to working/weights_task2randominitialized-03-0.99.hdf5\n",
      "Epoch 4/50\n",
      "751/751 [==============================] - 12s 15ms/step - loss: 0.0451 - accuracy: 0.9867 - val_loss: 0.0451 - val_accuracy: 0.9866\n",
      "\n",
      "Epoch 00004: val_accuracy did not improve from 0.98658\n",
      "Epoch 5/50\n",
      "751/751 [==============================] - 11s 15ms/step - loss: 0.0364 - accuracy: 0.9892 - val_loss: 0.0391 - val_accuracy: 0.9885\n",
      "\n",
      "Epoch 00005: val_accuracy improved from 0.98658 to 0.98850, saving model to working/weights_task2randominitialized-05-0.99.hdf5\n",
      "Epoch 6/50\n",
      "751/751 [==============================] - 11s 14ms/step - loss: 0.0308 - accuracy: 0.9912 - val_loss: 0.0424 - val_accuracy: 0.9878\n",
      "\n",
      "Epoch 00006: val_accuracy did not improve from 0.98850\n",
      "Epoch 7/50\n",
      "751/751 [==============================] - 12s 17ms/step - loss: 0.0323 - accuracy: 0.9906 - val_loss: 0.0432 - val_accuracy: 0.9881\n",
      "\n",
      "Epoch 00007: val_accuracy did not improve from 0.98850\n",
      "Epoch 8/50\n",
      "751/751 [==============================] - 11s 15ms/step - loss: 0.0290 - accuracy: 0.9911 - val_loss: 0.0379 - val_accuracy: 0.9894\n",
      "\n",
      "Epoch 00008: val_accuracy improved from 0.98850 to 0.98941, saving model to working/weights_task2randominitialized-08-0.99.hdf5\n",
      "Epoch 9/50\n",
      "751/751 [==============================] - 12s 16ms/step - loss: 0.0258 - accuracy: 0.9921 - val_loss: 0.0374 - val_accuracy: 0.9905\n",
      "\n",
      "Epoch 00009: val_accuracy improved from 0.98941 to 0.99050, saving model to working/weights_task2randominitialized-09-0.99.hdf5\n",
      "Epoch 10/50\n",
      "751/751 [==============================] - 13s 17ms/step - loss: 0.0247 - accuracy: 0.9933 - val_loss: 0.0367 - val_accuracy: 0.9898\n",
      "\n",
      "Epoch 00010: val_accuracy did not improve from 0.99050\n",
      "Epoch 11/50\n",
      "751/751 [==============================] - 13s 18ms/step - loss: 0.0241 - accuracy: 0.9930 - val_loss: 0.0449 - val_accuracy: 0.9876\n",
      "\n",
      "Epoch 00011: val_accuracy did not improve from 0.99050\n",
      "Epoch 12/50\n",
      "751/751 [==============================] - 11s 15ms/step - loss: 0.0203 - accuracy: 0.9939 - val_loss: 0.0392 - val_accuracy: 0.9903\n",
      "\n",
      "Epoch 00012: val_accuracy did not improve from 0.99050\n",
      "Epoch 13/50\n",
      "751/751 [==============================] - 11s 15ms/step - loss: 0.0170 - accuracy: 0.9949 - val_loss: 0.0448 - val_accuracy: 0.9885\n",
      "\n",
      "Epoch 00013: val_accuracy did not improve from 0.99050\n",
      "Epoch 14/50\n",
      "751/751 [==============================] - 11s 15ms/step - loss: 0.0222 - accuracy: 0.9932 - val_loss: 0.0422 - val_accuracy: 0.9901\n",
      "\n",
      "Epoch 00014: val_accuracy did not improve from 0.99050\n",
      "Epoch 15/50\n",
      "751/751 [==============================] - 11s 15ms/step - loss: 0.0183 - accuracy: 0.9946 - val_loss: 0.0339 - val_accuracy: 0.9917\n",
      "\n",
      "Epoch 00015: val_accuracy improved from 0.99050 to 0.99166, saving model to working/weights_task2randominitialized-15-0.99.hdf5\n",
      "Epoch 16/50\n",
      "751/751 [==============================] - 11s 15ms/step - loss: 0.0182 - accuracy: 0.9951 - val_loss: 0.0382 - val_accuracy: 0.9902\n",
      "\n",
      "Epoch 00016: val_accuracy did not improve from 0.99166\n",
      "Epoch 17/50\n",
      "751/751 [==============================] - 11s 15ms/step - loss: 0.0120 - accuracy: 0.9968 - val_loss: 0.0370 - val_accuracy: 0.9917\n",
      "\n",
      "Epoch 00017: val_accuracy did not improve from 0.99166\n",
      "Epoch 18/50\n",
      "751/751 [==============================] - 11s 15ms/step - loss: 0.0131 - accuracy: 0.9961 - val_loss: 0.0417 - val_accuracy: 0.9909\n",
      "\n",
      "Epoch 00018: val_accuracy did not improve from 0.99166\n",
      "Epoch 19/50\n",
      "751/751 [==============================] - 12s 16ms/step - loss: 0.0169 - accuracy: 0.9957 - val_loss: 0.0345 - val_accuracy: 0.9912\n",
      "\n",
      "Epoch 00019: val_accuracy did not improve from 0.99166\n",
      "Epoch 20/50\n",
      "751/751 [==============================] - 13s 18ms/step - loss: 0.0183 - accuracy: 0.9954 - val_loss: 0.0422 - val_accuracy: 0.9901\n",
      "\n",
      "Epoch 00020: val_accuracy did not improve from 0.99166\n",
      "Epoch 21/50\n",
      "751/751 [==============================] - 13s 17ms/step - loss: 0.0108 - accuracy: 0.9967 - val_loss: 0.0504 - val_accuracy: 0.9907\n",
      "\n",
      "Epoch 00021: val_accuracy did not improve from 0.99166\n",
      "Epoch 22/50\n",
      "751/751 [==============================] - 13s 17ms/step - loss: 0.0133 - accuracy: 0.9962 - val_loss: 0.0333 - val_accuracy: 0.9925\n",
      "\n",
      "Epoch 00022: val_accuracy improved from 0.99166 to 0.99250, saving model to working/weights_task2randominitialized-22-0.99.hdf5\n",
      "Epoch 23/50\n",
      "751/751 [==============================] - 12s 15ms/step - loss: 0.0104 - accuracy: 0.9968 - val_loss: 0.0443 - val_accuracy: 0.9902\n",
      "\n",
      "Epoch 00023: val_accuracy did not improve from 0.99250\n",
      "Epoch 24/50\n",
      "751/751 [==============================] - 12s 16ms/step - loss: 0.0150 - accuracy: 0.9957 - val_loss: 0.0495 - val_accuracy: 0.9885\n",
      "\n",
      "Epoch 00024: val_accuracy did not improve from 0.99250\n",
      "Epoch 25/50\n",
      "751/751 [==============================] - 11s 15ms/step - loss: 0.0143 - accuracy: 0.9961 - val_loss: 0.0412 - val_accuracy: 0.9924\n",
      "\n",
      "Epoch 00025: val_accuracy did not improve from 0.99250\n",
      "Epoch 26/50\n",
      "751/751 [==============================] - 11s 15ms/step - loss: 0.0135 - accuracy: 0.9965 - val_loss: 0.0381 - val_accuracy: 0.9903\n",
      "\n",
      "Epoch 00026: val_accuracy did not improve from 0.99250\n",
      "Epoch 27/50\n",
      "751/751 [==============================] - 12s 16ms/step - loss: 0.0095 - accuracy: 0.9970 - val_loss: 0.0520 - val_accuracy: 0.9909\n",
      "\n",
      "Epoch 00027: val_accuracy did not improve from 0.99250\n",
      "Epoch 28/50\n",
      "751/751 [==============================] - 12s 16ms/step - loss: 0.0108 - accuracy: 0.9975 - val_loss: 0.0428 - val_accuracy: 0.9903\n",
      "\n",
      "Epoch 00028: val_accuracy did not improve from 0.99250\n",
      "Epoch 29/50\n"
     ]
    },
    {
     "name": "stdout",
     "output_type": "stream",
     "text": [
      "751/751 [==============================] - 12s 16ms/step - loss: 0.0135 - accuracy: 0.9963 - val_loss: 0.0441 - val_accuracy: 0.9907\n",
      "\n",
      "Epoch 00029: val_accuracy did not improve from 0.99250\n",
      "Epoch 30/50\n",
      "751/751 [==============================] - 12s 16ms/step - loss: 0.0108 - accuracy: 0.9975 - val_loss: 0.0460 - val_accuracy: 0.9905\n",
      "\n",
      "Epoch 00030: val_accuracy did not improve from 0.99250\n",
      "Epoch 31/50\n",
      "751/751 [==============================] - 11s 15ms/step - loss: 0.0119 - accuracy: 0.9970 - val_loss: 0.0368 - val_accuracy: 0.9932\n",
      "\n",
      "Epoch 00031: val_accuracy improved from 0.99250 to 0.99325, saving model to working/weights_task2randominitialized-31-0.99.hdf5\n",
      "Epoch 32/50\n",
      "751/751 [==============================] - 11s 15ms/step - loss: 0.0121 - accuracy: 0.9969 - val_loss: 0.0493 - val_accuracy: 0.9913\n",
      "\n",
      "Epoch 00032: val_accuracy did not improve from 0.99325\n",
      "Epoch 33/50\n",
      "751/751 [==============================] - 11s 15ms/step - loss: 0.0110 - accuracy: 0.9965 - val_loss: 0.0447 - val_accuracy: 0.9907\n",
      "\n",
      "Epoch 00033: val_accuracy did not improve from 0.99325\n",
      "Epoch 34/50\n",
      "751/751 [==============================] - 11s 15ms/step - loss: 0.0090 - accuracy: 0.9974 - val_loss: 0.0391 - val_accuracy: 0.9927\n",
      "\n",
      "Epoch 00034: val_accuracy did not improve from 0.99325\n",
      "Epoch 35/50\n",
      "751/751 [==============================] - 11s 15ms/step - loss: 0.0092 - accuracy: 0.9975 - val_loss: 0.0423 - val_accuracy: 0.9925\n",
      "\n",
      "Epoch 00035: val_accuracy did not improve from 0.99325\n",
      "Epoch 36/50\n",
      "751/751 [==============================] - 11s 15ms/step - loss: 0.0094 - accuracy: 0.9971 - val_loss: 0.0553 - val_accuracy: 0.9897\n",
      "\n",
      "Epoch 00036: val_accuracy did not improve from 0.99325\n",
      "Epoch 37/50\n",
      "751/751 [==============================] - 11s 15ms/step - loss: 0.0105 - accuracy: 0.9977 - val_loss: 0.0448 - val_accuracy: 0.9912\n",
      "\n",
      "Epoch 00037: val_accuracy did not improve from 0.99325\n",
      "Epoch 38/50\n",
      "751/751 [==============================] - 11s 15ms/step - loss: 0.0104 - accuracy: 0.9973 - val_loss: 0.0414 - val_accuracy: 0.9940\n",
      "\n",
      "Epoch 00038: val_accuracy improved from 0.99325 to 0.99400, saving model to working/weights_task2randominitialized-38-0.99.hdf5\n",
      "Epoch 39/50\n",
      "751/751 [==============================] - 12s 15ms/step - loss: 0.0098 - accuracy: 0.9975 - val_loss: 0.0398 - val_accuracy: 0.9932\n",
      "\n",
      "Epoch 00039: val_accuracy did not improve from 0.99400\n",
      "Epoch 40/50\n",
      "751/751 [==============================] - 11s 15ms/step - loss: 0.0111 - accuracy: 0.9972 - val_loss: 0.0544 - val_accuracy: 0.9905\n",
      "\n",
      "Epoch 00040: val_accuracy did not improve from 0.99400\n",
      "Epoch 41/50\n",
      "751/751 [==============================] - 11s 15ms/step - loss: 0.0096 - accuracy: 0.9979 - val_loss: 0.0343 - val_accuracy: 0.9934\n",
      "\n",
      "Epoch 00041: val_accuracy did not improve from 0.99400\n",
      "Epoch 42/50\n",
      "751/751 [==============================] - 11s 15ms/step - loss: 0.0098 - accuracy: 0.9978 - val_loss: 0.0489 - val_accuracy: 0.9927\n",
      "\n",
      "Epoch 00042: val_accuracy did not improve from 0.99400\n",
      "Epoch 43/50\n",
      "751/751 [==============================] - 11s 15ms/step - loss: 0.0107 - accuracy: 0.9974 - val_loss: 0.0359 - val_accuracy: 0.9932\n",
      "\n",
      "Epoch 00043: val_accuracy did not improve from 0.99400\n",
      "Epoch 44/50\n",
      "751/751 [==============================] - 11s 15ms/step - loss: 0.0088 - accuracy: 0.9983 - val_loss: 0.0507 - val_accuracy: 0.9915\n",
      "\n",
      "Epoch 00044: val_accuracy did not improve from 0.99400\n",
      "Epoch 45/50\n",
      "751/751 [==============================] - 11s 15ms/step - loss: 0.0095 - accuracy: 0.9974 - val_loss: 0.0443 - val_accuracy: 0.9918\n",
      "\n",
      "Epoch 00045: val_accuracy did not improve from 0.99400\n",
      "Epoch 46/50\n",
      "751/751 [==============================] - 14s 18ms/step - loss: 0.0120 - accuracy: 0.9972 - val_loss: 0.0474 - val_accuracy: 0.9919\n",
      "\n",
      "Epoch 00046: val_accuracy did not improve from 0.99400\n",
      "Epoch 47/50\n",
      "751/751 [==============================] - 13s 17ms/step - loss: 0.0085 - accuracy: 0.9978 - val_loss: 0.0501 - val_accuracy: 0.9921\n",
      "\n",
      "Epoch 00047: val_accuracy did not improve from 0.99400\n",
      "Epoch 48/50\n",
      "751/751 [==============================] - 12s 16ms/step - loss: 0.0073 - accuracy: 0.9981 - val_loss: 0.0516 - val_accuracy: 0.9928\n",
      "\n",
      "Epoch 00048: val_accuracy did not improve from 0.99400\n",
      "Epoch 49/50\n",
      "751/751 [==============================] - 12s 16ms/step - loss: 0.0071 - accuracy: 0.9983 - val_loss: 0.0425 - val_accuracy: 0.9927\n",
      "\n",
      "Epoch 00049: val_accuracy did not improve from 0.99400\n",
      "Epoch 50/50\n",
      "751/751 [==============================] - 13s 17ms/step - loss: 0.0047 - accuracy: 0.9989 - val_loss: 0.1003 - val_accuracy: 0.9875\n",
      "\n",
      "Epoch 00050: val_accuracy did not improve from 0.99400\n"
     ]
    }
   ],
   "source": [
    "checkpoint_r = ModelCheckpoint(\n",
    "    'working/weights_task2randominitialized-{epoch:02d}-{val_accuracy:.2f}.hdf5',\n",
    "    monitor='val_accuracy',\n",
    "    verbose=1,\n",
    "    save_best_only=True,\n",
    "    mode='max',\n",
    "    period = 1)\n",
    "model_r.summary()\n",
    "history_r = model_r.fit(train_p, validation_data = valid_p, epochs = 50, verbose = 1, callbacks = [checkpoint_r])"
   ]
  },
  {
   "cell_type": "code",
   "execution_count": 9,
   "metadata": {},
   "outputs": [
    {
     "data": {
      "image/png": "[encoded data removed]",
      "text/plain": [
       "<Figure size 432x288 with 1 Axes>"
      ]
     },
     "metadata": {
      "needs_background": "light"
     },
     "output_type": "display_data"
    },
    {
     "data": {
      "image/png": "[encoded data removed]",
      "text/plain": [
       "<Figure size 432x288 with 1 Axes>"
      ]
     },
     "metadata": {
      "needs_background": "light"
     },
     "output_type": "display_data"
    }
   ],
   "source": [
    "plot_r = pd.DataFrame(history_r.history)\n",
    "plot_r.loc[:,[\"loss\", \"val_loss\"]].plot();\n",
    "plot_r.loc[:,[\"accuracy\", \"val_accuracy\"]].plot();"
   ]
  },
  {
   "cell_type": "markdown",
   "metadata": {},
   "source": [
    "# Results for Randomly Initialized Model\n",
    "### Model seems to achive convergence within first 9 epochs and accuracy for validation is about 0.99\n",
    "### But it seems that randomly initialized model takes a bit more epochs for converging to an optimal solution"
   ]
  },
  {
   "cell_type": "code",
   "execution_count": null,
   "metadata": {},
   "outputs": [],
   "source": [
    "99\n",
    "### But it seems that randomly initialized model takes a bit more epochs for converging toan opt"
   ]
  },
  {
   "cell_type": "markdown",
   "metadata": {},
   "source": [
    "# Task 3"
   ]
  },
  {
   "cell_type": "code",
   "execution_count": null,
   "metadata": {},
   "outputs": [],
   "source": []
  },
  {
   "cell_type": "code",
   "execution_count": 17,
   "metadata": {},
   "outputs": [
    {
     "name": "stdout",
     "output_type": "stream",
     "text": [
      "Found 48006 images belonging to 10 classes.\n",
      "Found 11994 images belonging to 10 classes.\n"
     ]
    }
   ],
   "source": [
    "train_datagen = ImageDataGenerator(\n",
    "                                    rescale =1/255,\n",
    "                                    validation_split = 0.2\n",
    "                                  )\n",
    "train_p3 = train_datagen.flow_from_directory(\n",
    "                                          'mnistTask3/',\n",
    "                                           target_size = (28, 28),\n",
    "                                           batch_size = 64,\n",
    "                                           class_mode = \"categorical\",\n",
    "                                           seed = 42,\n",
    "                                           subset = 'training'\n",
    "                                         )\n",
    "valid_p3 = train = train_datagen.flow_from_directory(\n",
    "                                          'mnistTask3/',\n",
    "                                           target_size = (28, 28),\n",
    "                                           batch_size = 32,\n",
    "                                           class_mode = \"categorical\",\n",
    "                                           seed = 42,\n",
    "                                           subset = 'validation'\n",
    "                                         )"
   ]
  },
  {
   "cell_type": "markdown",
   "metadata": {},
   "source": [
    "# NOW unfreezed pretrained model"
   ]
  },
  {
   "cell_type": "code",
   "execution_count": 18,
   "metadata": {},
   "outputs": [],
   "source": [
    "model_pu3 = larger_model('relu')\n",
    "model_pu3.load_weights(\"working/weights_largerModel-33-1.00.hdf5\")\n",
    "model_pu3.add(Dense(10, \"softmax\"))"
   ]
  },
  {
   "cell_type": "markdown",
   "metadata": {},
   "source": [
    "Unfreezed"
   ]
  },
  {
   "cell_type": "code",
   "execution_count": 19,
   "metadata": {},
   "outputs": [],
   "source": [
    "model_pu3.compile(loss='categorical_crossentropy', optimizer='adam', metrics=['accuracy'])"
   ]
  },
  {
   "cell_type": "code",
   "execution_count": 20,
   "metadata": {},
   "outputs": [
    {
     "name": "stdout",
     "output_type": "stream",
     "text": [
      "WARNING:tensorflow:`period` argument is deprecated. Please use `save_freq` to specify the frequency in number of batches seen.\n",
      "Model: \"sequential_2\"\n",
      "_________________________________________________________________\n",
      "Layer (type)                 Output Shape              Param #   \n",
      "=================================================================\n",
      "conv2d_4 (Conv2D)            (None, 24, 24, 28)        2128      \n",
      "_________________________________________________________________\n",
      "max_pooling2d_4 (MaxPooling2 (None, 12, 12, 28)        0         \n",
      "_________________________________________________________________\n",
      "conv2d_5 (Conv2D)            (None, 10, 10, 16)        4048      \n",
      "_________________________________________________________________\n",
      "max_pooling2d_5 (MaxPooling2 (None, 5, 5, 16)          0         \n",
      "_________________________________________________________________\n",
      "dropout_2 (Dropout)          (None, 5, 5, 16)          0         \n",
      "_________________________________________________________________\n",
      "flatten_2 (Flatten)          (None, 400)               0         \n",
      "_________________________________________________________________\n",
      "dense_10 (Dense)             (None, 1024)              410624    \n",
      "_________________________________________________________________\n",
      "dense_11 (Dense)             (None, 512)               524800    \n",
      "_________________________________________________________________\n",
      "dense_12 (Dense)             (None, 128)               65664     \n",
      "_________________________________________________________________\n",
      "dense_13 (Dense)             (None, 62)                7998      \n",
      "_________________________________________________________________\n",
      "dense_14 (Dense)             (None, 10)                630       \n",
      "=================================================================\n",
      "Total params: 1,015,892\n",
      "Trainable params: 1,015,892\n",
      "Non-trainable params: 0\n",
      "_________________________________________________________________\n",
      "Epoch 1/50\n",
      "751/751 [==============================] - 13s 17ms/step - loss: 2.3399 - accuracy: 0.1018 - val_loss: 2.2939 - val_accuracy: 0.1058\n",
      "\n",
      "Epoch 00001: val_accuracy improved from -inf to 0.10580, saving model to working/weights_pretrainedModelTask3-01-0.11.hdf5\n",
      "Epoch 2/50\n",
      "751/751 [==============================] - 13s 17ms/step - loss: 2.2885 - accuracy: 0.1104 - val_loss: 2.2631 - val_accuracy: 0.1096\n",
      "\n",
      "Epoch 00002: val_accuracy improved from 0.10580 to 0.10955, saving model to working/weights_pretrainedModelTask3-02-0.11.hdf5\n",
      "Epoch 3/50\n",
      "751/751 [==============================] - 13s 17ms/step - loss: 2.2563 - accuracy: 0.1146 - val_loss: 2.2317 - val_accuracy: 0.1093\n",
      "\n",
      "Epoch 00003: val_accuracy did not improve from 0.10955\n",
      "Epoch 4/50\n",
      "751/751 [==============================] - 13s 17ms/step - loss: 2.2272 - accuracy: 0.1113 - val_loss: 2.2201 - val_accuracy: 0.1102\n",
      "\n",
      "Epoch 00004: val_accuracy improved from 0.10955 to 0.11022, saving model to working/weights_pretrainedModelTask3-04-0.11.hdf5\n",
      "Epoch 5/50\n",
      "751/751 [==============================] - 13s 17ms/step - loss: 2.2200 - accuracy: 0.1136 - val_loss: 2.2170 - val_accuracy: 0.1116\n",
      "\n",
      "Epoch 00005: val_accuracy improved from 0.11022 to 0.11156, saving model to working/weights_pretrainedModelTask3-05-0.11.hdf5\n",
      "Epoch 6/50\n",
      "751/751 [==============================] - 13s 17ms/step - loss: 2.2153 - accuracy: 0.1176 - val_loss: 2.2190 - val_accuracy: 0.1077\n",
      "\n",
      "Epoch 00006: val_accuracy did not improve from 0.11156\n",
      "Epoch 7/50\n",
      "751/751 [==============================] - 12s 17ms/step - loss: 2.2124 - accuracy: 0.1164 - val_loss: 2.2181 - val_accuracy: 0.1095\n",
      "\n",
      "Epoch 00007: val_accuracy did not improve from 0.11156\n",
      "Epoch 8/50\n",
      "751/751 [==============================] - 12s 17ms/step - loss: 2.2107 - accuracy: 0.1183 - val_loss: 2.2171 - val_accuracy: 0.1156\n",
      "\n",
      "Epoch 00008: val_accuracy improved from 0.11156 to 0.11556, saving model to working/weights_pretrainedModelTask3-08-0.12.hdf5\n",
      "Epoch 9/50\n",
      "751/751 [==============================] - 12s 16ms/step - loss: 2.2085 - accuracy: 0.1216 - val_loss: 2.2198 - val_accuracy: 0.1111\n",
      "\n",
      "Epoch 00009: val_accuracy did not improve from 0.11556\n",
      "Epoch 10/50\n",
      "751/751 [==============================] - 12s 17ms/step - loss: 2.2080 - accuracy: 0.1215 - val_loss: 2.2184 - val_accuracy: 0.1086\n",
      "\n",
      "Epoch 00010: val_accuracy did not improve from 0.11556\n",
      "Epoch 11/50\n",
      "751/751 [==============================] - 13s 17ms/step - loss: 2.2028 - accuracy: 0.1240 - val_loss: 2.2220 - val_accuracy: 0.1063\n",
      "\n",
      "Epoch 00011: val_accuracy did not improve from 0.11556\n",
      "Epoch 12/50\n",
      "751/751 [==============================] - 13s 17ms/step - loss: 2.1994 - accuracy: 0.1242 - val_loss: 2.2204 - val_accuracy: 0.1110\n",
      "\n",
      "Epoch 00012: val_accuracy did not improve from 0.11556\n",
      "Epoch 13/50\n",
      "751/751 [==============================] - 12s 17ms/step - loss: 2.1944 - accuracy: 0.1313 - val_loss: 2.2273 - val_accuracy: 0.1071\n",
      "\n",
      "Epoch 00013: val_accuracy did not improve from 0.11556\n",
      "Epoch 14/50\n",
      "751/751 [==============================] - 13s 17ms/step - loss: 2.1900 - accuracy: 0.1321 - val_loss: 2.2254 - val_accuracy: 0.1078\n",
      "\n",
      "Epoch 00014: val_accuracy did not improve from 0.11556\n",
      "Epoch 15/50\n",
      "751/751 [==============================] - 13s 17ms/step - loss: 2.1842 - accuracy: 0.1433 - val_loss: 2.2402 - val_accuracy: 0.1112\n",
      "\n",
      "Epoch 00015: val_accuracy did not improve from 0.11556\n",
      "Epoch 16/50\n",
      "751/751 [==============================] - 12s 16ms/step - loss: 2.1762 - accuracy: 0.1459 - val_loss: 2.2335 - val_accuracy: 0.1131\n",
      "\n",
      "Epoch 00016: val_accuracy did not improve from 0.11556\n",
      "Epoch 17/50\n",
      "751/751 [==============================] - 13s 17ms/step - loss: 2.1647 - accuracy: 0.1525 - val_loss: 2.2483 - val_accuracy: 0.1092\n",
      "\n",
      "Epoch 00017: val_accuracy did not improve from 0.11556\n",
      "Epoch 18/50\n",
      "751/751 [==============================] - 12s 16ms/step - loss: 2.1515 - accuracy: 0.1598 - val_loss: 2.2497 - val_accuracy: 0.1096\n",
      "\n",
      "Epoch 00018: val_accuracy did not improve from 0.11556\n",
      "Epoch 19/50\n",
      "751/751 [==============================] - 15s 20ms/step - loss: 2.1313 - accuracy: 0.1686 - val_loss: 2.2718 - val_accuracy: 0.1053\n",
      "\n",
      "Epoch 00019: val_accuracy did not improve from 0.11556\n",
      "Epoch 20/50\n",
      "751/751 [==============================] - 14s 19ms/step - loss: 2.1142 - accuracy: 0.1759 - val_loss: 2.2930 - val_accuracy: 0.1097\n",
      "\n",
      "Epoch 00020: val_accuracy did not improve from 0.11556\n",
      "Epoch 21/50\n",
      "751/751 [==============================] - 13s 17ms/step - loss: 2.0877 - accuracy: 0.1862 - val_loss: 2.3029 - val_accuracy: 0.1141\n",
      "\n",
      "Epoch 00021: val_accuracy did not improve from 0.11556\n",
      "Epoch 22/50\n",
      "751/751 [==============================] - 14s 19ms/step - loss: 2.0534 - accuracy: 0.2080 - val_loss: 2.3190 - val_accuracy: 0.1106\n",
      "\n",
      "Epoch 00022: val_accuracy did not improve from 0.11556\n",
      "Epoch 23/50\n",
      "751/751 [==============================] - 14s 18ms/step - loss: 2.0276 - accuracy: 0.2205 - val_loss: 2.3554 - val_accuracy: 0.1116\n",
      "\n",
      "Epoch 00023: val_accuracy did not improve from 0.11556\n",
      "Epoch 24/50\n",
      "751/751 [==============================] - 14s 18ms/step - loss: 1.9860 - accuracy: 0.2395 - val_loss: 2.4038 - val_accuracy: 0.1119\n",
      "\n",
      "Epoch 00024: val_accuracy did not improve from 0.11556\n",
      "Epoch 25/50\n",
      "751/751 [==============================] - 13s 18ms/step - loss: 1.9521 - accuracy: 0.2516 - val_loss: 2.4420 - val_accuracy: 0.1103\n",
      "\n",
      "Epoch 00025: val_accuracy did not improve from 0.11556\n",
      "Epoch 26/50\n",
      "751/751 [==============================] - 14s 19ms/step - loss: 1.9119 - accuracy: 0.2646 - val_loss: 2.4370 - val_accuracy: 0.1096\n",
      "\n",
      "Epoch 00026: val_accuracy did not improve from 0.11556\n",
      "Epoch 27/50\n",
      "751/751 [==============================] - 13s 17ms/step - loss: 1.8702 - accuracy: 0.2872 - val_loss: 2.4839 - val_accuracy: 0.1111\n",
      "\n",
      "Epoch 00027: val_accuracy did not improve from 0.11556\n",
      "Epoch 28/50\n",
      "751/751 [==============================] - 12s 16ms/step - loss: 1.8411 - accuracy: 0.2972 - val_loss: 2.5524 - val_accuracy: 0.1062\n",
      "\n",
      "Epoch 00028: val_accuracy did not improve from 0.11556\n",
      "Epoch 29/50\n",
      "751/751 [==============================] - 12s 16ms/step - loss: 1.8057 - accuracy: 0.3155 - val_loss: 2.5674 - val_accuracy: 0.1078\n",
      "\n",
      "Epoch 00029: val_accuracy did not improve from 0.11556\n",
      "Epoch 30/50\n"
     ]
    },
    {
     "name": "stdout",
     "output_type": "stream",
     "text": [
      "751/751 [==============================] - 12s 16ms/step - loss: 1.7720 - accuracy: 0.3286 - val_loss: 2.6177 - val_accuracy: 0.1101\n",
      "\n",
      "Epoch 00030: val_accuracy did not improve from 0.11556\n",
      "Epoch 31/50\n",
      "751/751 [==============================] - 12s 15ms/step - loss: 1.7291 - accuracy: 0.3485 - val_loss: 2.6631 - val_accuracy: 0.1073\n",
      "\n",
      "Epoch 00031: val_accuracy did not improve from 0.11556\n",
      "Epoch 32/50\n",
      "751/751 [==============================] - 15s 20ms/step - loss: 1.6943 - accuracy: 0.3617 - val_loss: 2.6618 - val_accuracy: 0.1102\n",
      "\n",
      "Epoch 00032: val_accuracy did not improve from 0.11556\n",
      "Epoch 33/50\n",
      "751/751 [==============================] - 13s 17ms/step - loss: 1.6583 - accuracy: 0.3767 - val_loss: 2.7041 - val_accuracy: 0.1090\n",
      "\n",
      "Epoch 00033: val_accuracy did not improve from 0.11556\n",
      "Epoch 34/50\n",
      "751/751 [==============================] - 13s 17ms/step - loss: 1.6237 - accuracy: 0.3933 - val_loss: 2.7621 - val_accuracy: 0.1141\n",
      "\n",
      "Epoch 00034: val_accuracy did not improve from 0.11556\n",
      "Epoch 35/50\n",
      "751/751 [==============================] - 14s 18ms/step - loss: 1.5975 - accuracy: 0.4012 - val_loss: 2.8099 - val_accuracy: 0.1087\n",
      "\n",
      "Epoch 00035: val_accuracy did not improve from 0.11556\n",
      "Epoch 36/50\n",
      "751/751 [==============================] - 16s 22ms/step - loss: 1.5721 - accuracy: 0.4121 - val_loss: 2.8139 - val_accuracy: 0.1115\n",
      "\n",
      "Epoch 00036: val_accuracy did not improve from 0.11556\n",
      "Epoch 37/50\n",
      "751/751 [==============================] - 14s 18ms/step - loss: 1.5426 - accuracy: 0.4217 - val_loss: 2.8969 - val_accuracy: 0.1109\n",
      "\n",
      "Epoch 00037: val_accuracy did not improve from 0.11556\n",
      "Epoch 38/50\n",
      "751/751 [==============================] - 13s 17ms/step - loss: 1.5050 - accuracy: 0.4409 - val_loss: 2.8973 - val_accuracy: 0.1117\n",
      "\n",
      "Epoch 00038: val_accuracy did not improve from 0.11556\n",
      "Epoch 39/50\n",
      "751/751 [==============================] - 12s 16ms/step - loss: 1.4835 - accuracy: 0.4522 - val_loss: 2.9325 - val_accuracy: 0.1105\n",
      "\n",
      "Epoch 00039: val_accuracy did not improve from 0.11556\n",
      "Epoch 40/50\n",
      "751/751 [==============================] - 12s 17ms/step - loss: 1.4597 - accuracy: 0.4595 - val_loss: 2.9108 - val_accuracy: 0.1086\n",
      "\n",
      "Epoch 00040: val_accuracy did not improve from 0.11556\n",
      "Epoch 41/50\n",
      "751/751 [==============================] - 13s 17ms/step - loss: 1.4240 - accuracy: 0.4686 - val_loss: 2.9881 - val_accuracy: 0.1073\n",
      "\n",
      "Epoch 00041: val_accuracy did not improve from 0.11556\n",
      "Epoch 42/50\n",
      "751/751 [==============================] - 13s 17ms/step - loss: 1.4074 - accuracy: 0.4811 - val_loss: 3.0688 - val_accuracy: 0.1099\n",
      "\n",
      "Epoch 00042: val_accuracy did not improve from 0.11556\n",
      "Epoch 43/50\n",
      "751/751 [==============================] - 13s 17ms/step - loss: 1.3751 - accuracy: 0.4925 - val_loss: 3.0977 - val_accuracy: 0.1115\n",
      "\n",
      "Epoch 00043: val_accuracy did not improve from 0.11556\n",
      "Epoch 44/50\n",
      "751/751 [==============================] - 13s 17ms/step - loss: 1.3501 - accuracy: 0.5087 - val_loss: 3.1468 - val_accuracy: 0.1088\n",
      "\n",
      "Epoch 00044: val_accuracy did not improve from 0.11556\n",
      "Epoch 45/50\n",
      "751/751 [==============================] - 13s 17ms/step - loss: 1.3298 - accuracy: 0.5137 - val_loss: 3.1755 - val_accuracy: 0.1105\n",
      "\n",
      "Epoch 00045: val_accuracy did not improve from 0.11556\n",
      "Epoch 46/50\n",
      "751/751 [==============================] - 13s 17ms/step - loss: 1.3060 - accuracy: 0.5261 - val_loss: 3.2028 - val_accuracy: 0.1119\n",
      "\n",
      "Epoch 00046: val_accuracy did not improve from 0.11556\n",
      "Epoch 47/50\n",
      "751/751 [==============================] - 13s 17ms/step - loss: 1.2741 - accuracy: 0.5319 - val_loss: 3.2209 - val_accuracy: 0.1106\n",
      "\n",
      "Epoch 00047: val_accuracy did not improve from 0.11556\n",
      "Epoch 48/50\n",
      "751/751 [==============================] - 12s 17ms/step - loss: 1.2517 - accuracy: 0.5439 - val_loss: 3.2924 - val_accuracy: 0.1112\n",
      "\n",
      "Epoch 00048: val_accuracy did not improve from 0.11556\n",
      "Epoch 49/50\n",
      "751/751 [==============================] - 13s 17ms/step - loss: 1.2429 - accuracy: 0.5457 - val_loss: 3.2950 - val_accuracy: 0.1081\n",
      "\n",
      "Epoch 00049: val_accuracy did not improve from 0.11556\n",
      "Epoch 50/50\n",
      "751/751 [==============================] - 13s 17ms/step - loss: 1.2212 - accuracy: 0.5563 - val_loss: 3.3046 - val_accuracy: 0.1122\n",
      "\n",
      "Epoch 00050: val_accuracy did not improve from 0.11556\n"
     ]
    }
   ],
   "source": [
    "checkpoint_pu3 = ModelCheckpoint(\n",
    "    'working/weights_pretrainedModelTask3-{epoch:02d}-{val_accuracy:.2f}.hdf5',\n",
    "    monitor='val_accuracy',\n",
    "    verbose=1,\n",
    "    save_best_only=True,\n",
    "    mode='max',\n",
    "    period = 1)\n",
    "model_pu3.summary()\n",
    "history_pu3 = model_pu3.fit(train_p3, validation_data = valid_p3, epochs = 50, verbose = 1, callbacks = [checkpoint_pu3])"
   ]
  },
  {
   "cell_type": "code",
   "execution_count": 21,
   "metadata": {},
   "outputs": [
    {
     "data": {
      "image/png": "[encoded data removed]",
      "text/plain": [
       "<Figure size 432x288 with 1 Axes>"
      ]
     },
     "metadata": {
      "needs_background": "light"
     },
     "output_type": "display_data"
    },
    {
     "data": {
      "image/png": "[encoded data removed]",
      "text/plain": [
       "<Figure size 432x288 with 1 Axes>"
      ]
     },
     "metadata": {
      "needs_background": "light"
     },
     "output_type": "display_data"
    }
   ],
   "source": [
    "plot_pu3 = pd.DataFrame(history_pu3.history)\n",
    "plot_pu3.loc[:,[\"loss\", \"val_loss\"]].plot();\n",
    "plot_pu3.loc[:,[\"accuracy\", \"val_accuracy\"]].plot();"
   ]
  },
  {
   "cell_type": "markdown",
   "metadata": {},
   "source": [
    "### Evaluating Task 2 generated as asked test set on standerd test split of MNIST dataset"
   ]
  },
  {
   "cell_type": "code",
   "execution_count": 29,
   "metadata": {},
   "outputs": [
    {
     "name": "stdout",
     "output_type": "stream",
     "text": [
      "313/313 [==============================] - 2s 7ms/step - loss: 9.3102 - accuracy: 0.0033\n",
      "test loss, test acc: [9.310237884521484, 0.0032999999821186066]\n"
     ]
    }
   ],
   "source": [
    "results_up_task3 = model_pu3.evaluate(test_p, batch_size=128)\n",
    "print(\"test loss, test acc:\", results_up_task3)"
   ]
  },
  {
   "cell_type": "markdown",
   "metadata": {},
   "source": [
    "# Best Weights - working/weights_pretrainedModelTask3-08-0.12.hdf5"
   ]
  },
  {
   "cell_type": "markdown",
   "metadata": {},
   "source": [
    "# Results for unfreezed pretrained model\n",
    "### Model somehow seems not to be training and instead trying to overfit the training split. Moreover, from around 15 epochs val_loss starts increasing while trraining loss is still decreasing hence proving that the model is overfitting the training split. Also, we have best val_accuracy of only 0.12. And test accuracy even less."
   ]
  },
  {
   "cell_type": "markdown",
   "metadata": {},
   "source": [
    "# Now trying randomly initialized weights without loading pretrained weights"
   ]
  },
  {
   "cell_type": "code",
   "execution_count": 22,
   "metadata": {},
   "outputs": [],
   "source": [
    "model_r3 = larger_model('relu')\n",
    "model_r3.add(Dense(10, \"softmax\"))"
   ]
  },
  {
   "cell_type": "markdown",
   "metadata": {},
   "source": [
    "Randomly Initialized"
   ]
  },
  {
   "cell_type": "code",
   "execution_count": 23,
   "metadata": {},
   "outputs": [],
   "source": [
    "model_r3.compile(loss='categorical_crossentropy', optimizer='adam', metrics=['accuracy'])"
   ]
  },
  {
   "cell_type": "code",
   "execution_count": 24,
   "metadata": {},
   "outputs": [
    {
     "name": "stdout",
     "output_type": "stream",
     "text": [
      "WARNING:tensorflow:`period` argument is deprecated. Please use `save_freq` to specify the frequency in number of batches seen.\n",
      "Model: \"sequential_3\"\n",
      "_________________________________________________________________\n",
      "Layer (type)                 Output Shape              Param #   \n",
      "=================================================================\n",
      "conv2d_6 (Conv2D)            (None, 24, 24, 28)        2128      \n",
      "_________________________________________________________________\n",
      "max_pooling2d_6 (MaxPooling2 (None, 12, 12, 28)        0         \n",
      "_________________________________________________________________\n",
      "conv2d_7 (Conv2D)            (None, 10, 10, 16)        4048      \n",
      "_________________________________________________________________\n",
      "max_pooling2d_7 (MaxPooling2 (None, 5, 5, 16)          0         \n",
      "_________________________________________________________________\n",
      "dropout_3 (Dropout)          (None, 5, 5, 16)          0         \n",
      "_________________________________________________________________\n",
      "flatten_3 (Flatten)          (None, 400)               0         \n",
      "_________________________________________________________________\n",
      "dense_15 (Dense)             (None, 1024)              410624    \n",
      "_________________________________________________________________\n",
      "dense_16 (Dense)             (None, 512)               524800    \n",
      "_________________________________________________________________\n",
      "dense_17 (Dense)             (None, 128)               65664     \n",
      "_________________________________________________________________\n",
      "dense_18 (Dense)             (None, 62)                7998      \n",
      "_________________________________________________________________\n",
      "dense_19 (Dense)             (None, 10)                630       \n",
      "=================================================================\n",
      "Total params: 1,015,892\n",
      "Trainable params: 1,015,892\n",
      "Non-trainable params: 0\n",
      "_________________________________________________________________\n",
      "Epoch 1/50\n",
      "751/751 [==============================] - 15s 19ms/step - loss: 2.2986 - accuracy: 0.1053 - val_loss: 2.2632 - val_accuracy: 0.1091\n",
      "\n",
      "Epoch 00001: val_accuracy improved from -inf to 0.10905, saving model to working/weights_Task3randominitialized-01-0.11.hdf5\n",
      "Epoch 2/50\n",
      "751/751 [==============================] - 16s 22ms/step - loss: 2.2553 - accuracy: 0.1098 - val_loss: 2.2373 - val_accuracy: 0.1096\n",
      "\n",
      "Epoch 00002: val_accuracy improved from 0.10905 to 0.10964, saving model to working/weights_Task3randominitialized-02-0.11.hdf5\n",
      "Epoch 3/50\n",
      "751/751 [==============================] - 15s 20ms/step - loss: 2.2322 - accuracy: 0.1104 - val_loss: 2.2239 - val_accuracy: 0.1102\n",
      "\n",
      "Epoch 00003: val_accuracy improved from 0.10964 to 0.11022, saving model to working/weights_Task3randominitialized-03-0.11.hdf5\n",
      "Epoch 4/50\n",
      "751/751 [==============================] - 15s 20ms/step - loss: 2.2211 - accuracy: 0.1158 - val_loss: 2.2202 - val_accuracy: 0.1127\n",
      "\n",
      "Epoch 00004: val_accuracy improved from 0.11022 to 0.11272, saving model to working/weights_Task3randominitialized-04-0.11.hdf5\n",
      "Epoch 5/50\n",
      "751/751 [==============================] - 18s 24ms/step - loss: 2.2181 - accuracy: 0.1138 - val_loss: 2.2203 - val_accuracy: 0.1135\n",
      "\n",
      "Epoch 00005: val_accuracy improved from 0.11272 to 0.11347, saving model to working/weights_Task3randominitialized-05-0.11.hdf5\n",
      "Epoch 6/50\n",
      "751/751 [==============================] - 16s 22ms/step - loss: 2.2136 - accuracy: 0.1189 - val_loss: 2.2214 - val_accuracy: 0.1086\n",
      "\n",
      "Epoch 00006: val_accuracy did not improve from 0.11347\n",
      "Epoch 7/50\n",
      "751/751 [==============================] - 15s 20ms/step - loss: 2.2119 - accuracy: 0.1195 - val_loss: 2.2196 - val_accuracy: 0.1106\n",
      "\n",
      "Epoch 00007: val_accuracy did not improve from 0.11347\n",
      "Epoch 8/50\n",
      "751/751 [==============================] - 15s 19ms/step - loss: 2.2092 - accuracy: 0.1216 - val_loss: 2.2247 - val_accuracy: 0.1105\n",
      "\n",
      "Epoch 00008: val_accuracy did not improve from 0.11347\n",
      "Epoch 9/50\n",
      "751/751 [==============================] - 14s 19ms/step - loss: 2.2059 - accuracy: 0.1220 - val_loss: 2.2199 - val_accuracy: 0.1066\n",
      "\n",
      "Epoch 00009: val_accuracy did not improve from 0.11347\n",
      "Epoch 10/50\n",
      "751/751 [==============================] - 13s 17ms/step - loss: 2.2003 - accuracy: 0.1307 - val_loss: 2.2230 - val_accuracy: 0.1098\n",
      "\n",
      "Epoch 00010: val_accuracy did not improve from 0.11347\n",
      "Epoch 11/50\n",
      "751/751 [==============================] - 13s 18ms/step - loss: 2.1990 - accuracy: 0.1291 - val_loss: 2.2274 - val_accuracy: 0.1059\n",
      "\n",
      "Epoch 00011: val_accuracy did not improve from 0.11347\n",
      "Epoch 12/50\n",
      "751/751 [==============================] - 13s 17ms/step - loss: 2.1912 - accuracy: 0.1339 - val_loss: 2.2286 - val_accuracy: 0.1108\n",
      "\n",
      "Epoch 00012: val_accuracy did not improve from 0.11347\n",
      "Epoch 13/50\n",
      "751/751 [==============================] - 17s 22ms/step - loss: 2.1826 - accuracy: 0.1438 - val_loss: 2.2342 - val_accuracy: 0.1120\n",
      "\n",
      "Epoch 00013: val_accuracy did not improve from 0.11347\n",
      "Epoch 14/50\n",
      "751/751 [==============================] - 15s 20ms/step - loss: 2.1707 - accuracy: 0.1544 - val_loss: 2.2373 - val_accuracy: 0.1085\n",
      "\n",
      "Epoch 00014: val_accuracy did not improve from 0.11347\n",
      "Epoch 15/50\n",
      "751/751 [==============================] - 15s 20ms/step - loss: 2.1560 - accuracy: 0.1596 - val_loss: 2.2554 - val_accuracy: 0.1116\n",
      "\n",
      "Epoch 00015: val_accuracy did not improve from 0.11347\n",
      "Epoch 16/50\n",
      "751/751 [==============================] - 13s 18ms/step - loss: 2.1383 - accuracy: 0.1683 - val_loss: 2.2759 - val_accuracy: 0.1126\n",
      "\n",
      "Epoch 00016: val_accuracy did not improve from 0.11347\n",
      "Epoch 17/50\n",
      "751/751 [==============================] - 14s 19ms/step - loss: 2.1152 - accuracy: 0.1836 - val_loss: 2.2787 - val_accuracy: 0.1141\n",
      "\n",
      "Epoch 00017: val_accuracy improved from 0.11347 to 0.11414, saving model to working/weights_Task3randominitialized-17-0.11.hdf5\n",
      "Epoch 18/50\n",
      "751/751 [==============================] - 13s 17ms/step - loss: 2.0832 - accuracy: 0.1952 - val_loss: 2.3068 - val_accuracy: 0.1097\n",
      "\n",
      "Epoch 00018: val_accuracy did not improve from 0.11414\n",
      "Epoch 19/50\n",
      "751/751 [==============================] - 13s 17ms/step - loss: 2.0488 - accuracy: 0.2137 - val_loss: 2.3322 - val_accuracy: 0.1157\n",
      "\n",
      "Epoch 00019: val_accuracy improved from 0.11414 to 0.11572, saving model to working/weights_Task3randominitialized-19-0.12.hdf5\n",
      "Epoch 20/50\n",
      "751/751 [==============================] - 13s 17ms/step - loss: 2.0159 - accuracy: 0.2312 - val_loss: 2.3733 - val_accuracy: 0.1139\n",
      "\n",
      "Epoch 00020: val_accuracy did not improve from 0.11572\n",
      "Epoch 21/50\n",
      "751/751 [==============================] - 13s 17ms/step - loss: 1.9703 - accuracy: 0.2489 - val_loss: 2.4128 - val_accuracy: 0.1143\n",
      "\n",
      "Epoch 00021: val_accuracy did not improve from 0.11572\n",
      "Epoch 22/50\n",
      "751/751 [==============================] - 12s 16ms/step - loss: 1.9191 - accuracy: 0.2807 - val_loss: 2.4427 - val_accuracy: 0.1095\n",
      "\n",
      "Epoch 00022: val_accuracy did not improve from 0.11572\n",
      "Epoch 23/50\n",
      "751/751 [==============================] - 12s 17ms/step - loss: 1.8705 - accuracy: 0.2990 - val_loss: 2.4976 - val_accuracy: 0.1140\n",
      "\n",
      "Epoch 00023: val_accuracy did not improve from 0.11572\n",
      "Epoch 24/50\n",
      "751/751 [==============================] - 12s 17ms/step - loss: 1.8251 - accuracy: 0.3109 - val_loss: 2.5619 - val_accuracy: 0.1084\n",
      "\n",
      "Epoch 00024: val_accuracy did not improve from 0.11572\n",
      "Epoch 25/50\n",
      "751/751 [==============================] - 12s 16ms/step - loss: 1.7710 - accuracy: 0.3397 - val_loss: 2.5887 - val_accuracy: 0.1134\n",
      "\n",
      "Epoch 00025: val_accuracy did not improve from 0.11572\n",
      "Epoch 26/50\n",
      "751/751 [==============================] - 12s 17ms/step - loss: 1.7279 - accuracy: 0.3605 - val_loss: 2.6437 - val_accuracy: 0.1118\n",
      "\n",
      "Epoch 00026: val_accuracy did not improve from 0.11572\n",
      "Epoch 27/50\n",
      "751/751 [==============================] - 13s 17ms/step - loss: 1.6916 - accuracy: 0.3724 - val_loss: 2.7486 - val_accuracy: 0.1124\n",
      "\n",
      "Epoch 00027: val_accuracy did not improve from 0.11572\n",
      "Epoch 28/50\n",
      "751/751 [==============================] - 13s 17ms/step - loss: 1.6578 - accuracy: 0.3869 - val_loss: 2.7532 - val_accuracy: 0.1117\n",
      "\n",
      "Epoch 00028: val_accuracy did not improve from 0.11572\n",
      "Epoch 29/50\n",
      "751/751 [==============================] - 13s 17ms/step - loss: 1.6079 - accuracy: 0.4081 - val_loss: 2.8291 - val_accuracy: 0.1154\n"
     ]
    },
    {
     "name": "stdout",
     "output_type": "stream",
     "text": [
      "\n",
      "Epoch 00029: val_accuracy did not improve from 0.11572\n",
      "Epoch 30/50\n",
      "751/751 [==============================] - 13s 17ms/step - loss: 1.5739 - accuracy: 0.4212 - val_loss: 2.8263 - val_accuracy: 0.1164\n",
      "\n",
      "Epoch 00030: val_accuracy improved from 0.11572 to 0.11639, saving model to working/weights_Task3randominitialized-30-0.12.hdf5\n",
      "Epoch 31/50\n",
      "751/751 [==============================] - 13s 17ms/step - loss: 1.5381 - accuracy: 0.4385 - val_loss: 2.9491 - val_accuracy: 0.1116\n",
      "\n",
      "Epoch 00031: val_accuracy did not improve from 0.11639\n",
      "Epoch 32/50\n",
      "751/751 [==============================] - 13s 17ms/step - loss: 1.5036 - accuracy: 0.4499 - val_loss: 2.9987 - val_accuracy: 0.1111\n",
      "\n",
      "Epoch 00032: val_accuracy did not improve from 0.11639\n",
      "Epoch 33/50\n",
      "751/751 [==============================] - 12s 17ms/step - loss: 1.4646 - accuracy: 0.4618 - val_loss: 2.9509 - val_accuracy: 0.1145\n",
      "\n",
      "Epoch 00033: val_accuracy did not improve from 0.11639\n",
      "Epoch 34/50\n",
      "751/751 [==============================] - 12s 17ms/step - loss: 1.4353 - accuracy: 0.4790 - val_loss: 3.0643 - val_accuracy: 0.1196\n",
      "\n",
      "Epoch 00034: val_accuracy improved from 0.11639 to 0.11956, saving model to working/weights_Task3randominitialized-34-0.12.hdf5\n",
      "Epoch 35/50\n",
      "751/751 [==============================] - 12s 17ms/step - loss: 1.4080 - accuracy: 0.4887 - val_loss: 3.1339 - val_accuracy: 0.1133\n",
      "\n",
      "Epoch 00035: val_accuracy did not improve from 0.11956\n",
      "Epoch 36/50\n",
      "751/751 [==============================] - 13s 17ms/step - loss: 1.3819 - accuracy: 0.4997 - val_loss: 3.1197 - val_accuracy: 0.1118\n",
      "\n",
      "Epoch 00036: val_accuracy did not improve from 0.11956\n",
      "Epoch 37/50\n",
      "751/751 [==============================] - 12s 16ms/step - loss: 1.3473 - accuracy: 0.5101 - val_loss: 3.1485 - val_accuracy: 0.1158\n",
      "\n",
      "Epoch 00037: val_accuracy did not improve from 0.11956\n",
      "Epoch 38/50\n",
      "751/751 [==============================] - 13s 17ms/step - loss: 1.3238 - accuracy: 0.5240 - val_loss: 3.2388 - val_accuracy: 0.1152\n",
      "\n",
      "Epoch 00038: val_accuracy did not improve from 0.11956\n",
      "Epoch 39/50\n",
      "751/751 [==============================] - 13s 17ms/step - loss: 1.2979 - accuracy: 0.5350 - val_loss: 3.2541 - val_accuracy: 0.1125\n",
      "\n",
      "Epoch 00039: val_accuracy did not improve from 0.11956\n",
      "Epoch 40/50\n",
      "751/751 [==============================] - 12s 17ms/step - loss: 1.2780 - accuracy: 0.5447 - val_loss: 3.2655 - val_accuracy: 0.1166\n",
      "\n",
      "Epoch 00040: val_accuracy did not improve from 0.11956\n",
      "Epoch 41/50\n",
      "751/751 [==============================] - 13s 17ms/step - loss: 1.2592 - accuracy: 0.5485 - val_loss: 3.2998 - val_accuracy: 0.1128\n",
      "\n",
      "Epoch 00041: val_accuracy did not improve from 0.11956\n",
      "Epoch 42/50\n",
      "751/751 [==============================] - 13s 17ms/step - loss: 1.2285 - accuracy: 0.5587 - val_loss: 3.3937 - val_accuracy: 0.1104\n",
      "\n",
      "Epoch 00042: val_accuracy did not improve from 0.11956\n",
      "Epoch 43/50\n",
      "751/751 [==============================] - 14s 19ms/step - loss: 1.1999 - accuracy: 0.5716 - val_loss: 3.4254 - val_accuracy: 0.1105\n",
      "\n",
      "Epoch 00043: val_accuracy did not improve from 0.11956\n",
      "Epoch 44/50\n",
      "751/751 [==============================] - 14s 18ms/step - loss: 1.2003 - accuracy: 0.5736 - val_loss: 3.4190 - val_accuracy: 0.1181\n",
      "\n",
      "Epoch 00044: val_accuracy did not improve from 0.11956\n",
      "Epoch 45/50\n",
      "751/751 [==============================] - 13s 18ms/step - loss: 1.1662 - accuracy: 0.5843 - val_loss: 3.5177 - val_accuracy: 0.1153\n",
      "\n",
      "Epoch 00045: val_accuracy did not improve from 0.11956\n",
      "Epoch 46/50\n",
      "751/751 [==============================] - 14s 18ms/step - loss: 1.1571 - accuracy: 0.5926 - val_loss: 3.5439 - val_accuracy: 0.1132\n",
      "\n",
      "Epoch 00046: val_accuracy did not improve from 0.11956\n",
      "Epoch 47/50\n",
      "751/751 [==============================] - 16s 22ms/step - loss: 1.1284 - accuracy: 0.5999 - val_loss: 3.5148 - val_accuracy: 0.1131\n",
      "\n",
      "Epoch 00047: val_accuracy did not improve from 0.11956\n",
      "Epoch 48/50\n",
      "751/751 [==============================] - 14s 19ms/step - loss: 1.1043 - accuracy: 0.6102 - val_loss: 3.5332 - val_accuracy: 0.1118\n",
      "\n",
      "Epoch 00048: val_accuracy did not improve from 0.11956\n",
      "Epoch 49/50\n",
      "751/751 [==============================] - 14s 19ms/step - loss: 1.0941 - accuracy: 0.6148 - val_loss: 3.6270 - val_accuracy: 0.1118\n",
      "\n",
      "Epoch 00049: val_accuracy did not improve from 0.11956\n",
      "Epoch 50/50\n",
      "751/751 [==============================] - 21s 28ms/step - loss: 1.0783 - accuracy: 0.6204 - val_loss: 3.5996 - val_accuracy: 0.1101\n",
      "\n",
      "Epoch 00050: val_accuracy did not improve from 0.11956\n"
     ]
    }
   ],
   "source": [
    "checkpoint_r3 = ModelCheckpoint(\n",
    "    'working/weights_Task3randominitialized-{epoch:02d}-{val_accuracy:.2f}.hdf5',\n",
    "    monitor='val_accuracy',\n",
    "    verbose=1,\n",
    "    save_best_only=True,\n",
    "    mode='max',\n",
    "    period = 1)\n",
    "model_r3.summary()\n",
    "history_r3 = model_r3.fit(train_p3, validation_data = valid_p3, epochs = 50, verbose = 1, callbacks = [checkpoint_r3])"
   ]
  },
  {
   "cell_type": "code",
   "execution_count": 25,
   "metadata": {},
   "outputs": [
    {
     "data": {
      "image/png": "[encoded data removed]",
      "text/plain": [
       "<Figure size 432x288 with 1 Axes>"
      ]
     },
     "metadata": {
      "needs_background": "light"
     },
     "output_type": "display_data"
    },
    {
     "data": {
      "image/png": "[encoded data removed]",
      "text/plain": [
       "<Figure size 432x288 with 1 Axes>"
      ]
     },
     "metadata": {
      "needs_background": "light"
     },
     "output_type": "display_data"
    }
   ],
   "source": [
    "plot_r3 = pd.DataFrame(history_r3.history)\n",
    "plot_r3.loc[:,[\"loss\", \"val_loss\"]].plot();\n",
    "plot_r3.loc[:,[\"accuracy\", \"val_accuracy\"]].plot();"
   ]
  },
  {
   "cell_type": "markdown",
   "metadata": {},
   "source": [
    "# Best Weights - working/weights_Task3randominitialized-34-0.12.hdf5"
   ]
  },
  {
   "cell_type": "markdown",
   "metadata": {},
   "source": [
    "# Results for Randomly Initialized Model\n",
    "### Model somehow seems not to be training and instead trying to overfit the training split. Moreover, from around 15 epochs val_loss starts increasing while trraining loss is still decreasing hence proving that the model is overfitting the training split. Also, we have best val_accuracy of only 0.12. And test accuracy even less."
   ]
  },
  {
   "cell_type": "markdown",
   "metadata": {},
   "source": [
    "### Evaluating Task 2 generated as asked test set on standerd test split of MNIST dataset"
   ]
  },
  {
   "cell_type": "code",
   "execution_count": 28,
   "metadata": {},
   "outputs": [
    {
     "name": "stdout",
     "output_type": "stream",
     "text": [
      "313/313 [==============================] - 5s 15ms/step - loss: 11.1126 - accuracy: 0.0045\n",
      "test loss, test acc: [11.112616539001465, 0.0044999998062849045]\n"
     ]
    }
   ],
   "source": [
    "results_ri_task3 = model_r3.evaluate(test_p, batch_size=128)\n",
    "print(\"test loss, test acc:\", results_ri_task3)"
   ]
  }
 ],
 "metadata": {
  "kernelspec": {
   "display_name": "Python 3",
   "language": "python",
   "name": "python3"
  },
  "language_info": {
   "codemirror_mode": {
    "name": "ipython",
    "version": 3
   },
   "file_extension": ".py",
   "mimetype": "text/x-python",
   "name": "python",
   "nbconvert_exporter": "python",
   "pygments_lexer": "ipython3",
   "version": "3.8.5"
  }
 },
 "nbformat": 4,
 "nbformat_minor": 4
}
